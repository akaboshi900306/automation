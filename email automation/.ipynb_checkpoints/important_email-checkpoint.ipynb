{
 "cells": [
  {
   "cell_type": "code",
   "execution_count": 1,
   "metadata": {},
   "outputs": [],
   "source": [
    "email_address_to = 'yunzhong_gao@homedepot.com'\n",
    "project_id = ''\n",
    "bq_staging_dataset = ''\n",
    "table_list_commadelim = 'TABLE_1,TABLE_2'\n",
    "output_bucket = ''\n",
    "run_date = ''"
   ]
  },
  {
   "cell_type": "code",
   "execution_count": 2,
   "metadata": {},
   "outputs": [
    {
     "name": "stdout",
     "output_type": "stream",
     "text": [
      "Requirement already satisfied: certifi in c:\\users\\yxg0rzh\\appdata\\local\\continuum\\anaconda3\\lib\\site-packages (2019.6.16)\n"
     ]
    },
    {
     "name": "stderr",
     "output_type": "stream",
     "text": [
      "WARNING: You are using pip version 20.1.1; however, version 21.0.1 is available.\n",
      "You should consider upgrading via the 'c:\\users\\yxg0rzh\\appdata\\local\\continuum\\anaconda3\\python.exe -m pip install --upgrade pip' command.\n"
     ]
    },
    {
     "name": "stdout",
     "output_type": "stream",
     "text": [
      "Requirement already satisfied: chardet in c:\\users\\yxg0rzh\\appdata\\local\\continuum\\anaconda3\\lib\\site-packages (3.0.4)\n"
     ]
    },
    {
     "name": "stderr",
     "output_type": "stream",
     "text": [
      "WARNING: You are using pip version 20.1.1; however, version 21.0.1 is available.\n",
      "You should consider upgrading via the 'c:\\users\\yxg0rzh\\appdata\\local\\continuum\\anaconda3\\python.exe -m pip install --upgrade pip' command.\n"
     ]
    },
    {
     "name": "stdout",
     "output_type": "stream",
     "text": [
      "Requirement already satisfied: idna in c:\\users\\yxg0rzh\\appdata\\local\\continuum\\anaconda3\\lib\\site-packages (2.8)\n"
     ]
    },
    {
     "name": "stderr",
     "output_type": "stream",
     "text": [
      "WARNING: You are using pip version 20.1.1; however, version 21.0.1 is available.\n",
      "You should consider upgrading via the 'c:\\users\\yxg0rzh\\appdata\\local\\continuum\\anaconda3\\python.exe -m pip install --upgrade pip' command.\n"
     ]
    },
    {
     "name": "stdout",
     "output_type": "stream",
     "text": [
      "Requirement already satisfied: requests in c:\\users\\yxg0rzh\\appdata\\local\\continuum\\anaconda3\\lib\\site-packages (2.22.0)\n",
      "Requirement already satisfied: idna<2.9,>=2.5 in c:\\users\\yxg0rzh\\appdata\\local\\continuum\\anaconda3\\lib\\site-packages (from requests) (2.8)\n",
      "Requirement already satisfied: certifi>=2017.4.17 in c:\\users\\yxg0rzh\\appdata\\local\\continuum\\anaconda3\\lib\\site-packages (from requests) (2019.6.16)\n",
      "Requirement already satisfied: chardet<3.1.0,>=3.0.2 in c:\\users\\yxg0rzh\\appdata\\local\\continuum\\anaconda3\\lib\\site-packages (from requests) (3.0.4)\n",
      "Requirement already satisfied: urllib3!=1.25.0,!=1.25.1,<1.26,>=1.21.1 in c:\\users\\yxg0rzh\\appdata\\local\\continuum\\anaconda3\\lib\\site-packages (from requests) (1.24.2)\n"
     ]
    },
    {
     "name": "stderr",
     "output_type": "stream",
     "text": [
      "WARNING: You are using pip version 20.1.1; however, version 21.0.1 is available.\n",
      "You should consider upgrading via the 'c:\\users\\yxg0rzh\\appdata\\local\\continuum\\anaconda3\\python.exe -m pip install --upgrade pip' command.\n"
     ]
    },
    {
     "name": "stdout",
     "output_type": "stream",
     "text": [
      "Requirement already satisfied: urllib3 in c:\\users\\yxg0rzh\\appdata\\local\\continuum\\anaconda3\\lib\\site-packages (1.24.2)\n"
     ]
    },
    {
     "name": "stderr",
     "output_type": "stream",
     "text": [
      "WARNING: You are using pip version 20.1.1; however, version 21.0.1 is available.\n",
      "You should consider upgrading via the 'c:\\users\\yxg0rzh\\appdata\\local\\continuum\\anaconda3\\python.exe -m pip install --upgrade pip' command.\n"
     ]
    }
   ],
   "source": [
    "!pip install certifi\n",
    "!pip install chardet\n",
    "!pip install idna\n",
    "!pip install requests\n",
    "!pip install urllib3"
   ]
  },
  {
   "cell_type": "code",
   "execution_count": 3,
   "metadata": {},
   "outputs": [],
   "source": [
    "from google.cloud import storage\n",
    "from google.cloud import bigquery\n",
    "from google.cloud.exceptions import NotFound\n",
    "\n",
    "from datetime import datetime\n",
    "import pytz\n",
    "\n",
    "import os\n",
    "\n",
    "import requests # for send_email function\n",
    "import mimetypes # for send_email function\n",
    "import base64 # for send_email function`"
   ]
  },
  {
   "cell_type": "code",
   "execution_count": 4,
   "metadata": {},
   "outputs": [],
   "source": [
    "email_address_list = email_address_to.split(',')\n",
    "def create_recipient_list(email_address_list):\n",
    "    recipient_list = [{\"emailAddress\":{\"address\":x}} for x in email_address_list]\n",
    "    return recipient_list\n",
    "toRecipients = create_recipient_list(email_address_list)"
   ]
  },
  {
   "cell_type": "code",
   "execution_count": 5,
   "metadata": {},
   "outputs": [
    {
     "data": {
      "text/plain": [
       "[{'emailAddress': {'address': 'yunzhong_gao@homedepot.com'}}]"
      ]
     },
     "execution_count": 5,
     "metadata": {},
     "output_type": "execute_result"
    }
   ],
   "source": [
    "toRecipients"
   ]
  },
  {
   "cell_type": "code",
   "execution_count": 6,
   "metadata": {},
   "outputs": [],
   "source": [
    "table_list = table_list_commadelim.split(',')"
   ]
  },
  {
   "cell_type": "code",
   "execution_count": 7,
   "metadata": {},
   "outputs": [],
   "source": [
    "def extract_bq_table_to_gcs_bucket(project, snapshot_dataset, bucket, table, date_yyyymmdd):\n",
    "    client = bigquery.Client(project)\n",
    "    blob_path = f\"{date_yyyymmdd}/{table}.csv\"\n",
    "    destination_uri = f\"gs://{bucket}/\" + blob_path\n",
    "    dataset_ref = bigquery.DatasetReference(project, snapshot_dataset)\n",
    "    table_ref = dataset_ref.table(table)\n",
    "\n",
    "    extract_job = client.extract_table(table_ref, destination_uri, location=\"US\")\n",
    "    extract_job.result()  # Waits for job to complete.\n",
    "\n",
    "    print(f\"Exported {project}:{snapshot_dataset}.{table} to {destination_uri}\")\n",
    "    return blob_path\n"
   ]
  },
  {
   "cell_type": "code",
   "execution_count": 8,
   "metadata": {},
   "outputs": [
    {
     "name": "stdout",
     "output_type": "stream",
     "text": [
      "CAC_CONFORMANCE_DAILY_DATA_SNAPSHOT\n"
     ]
    },
    {
     "name": "stderr",
     "output_type": "stream",
     "text": [
      "C:\\Users\\yxg0rzh\\AppData\\Local\\Continuum\\anaconda3\\lib\\site-packages\\google\\auth\\_default.py:69: UserWarning: Your application has authenticated using end user credentials from Google Cloud SDK without a quota project. You might receive a \"quota exceeded\" or \"API not enabled\" error. We recommend you rerun `gcloud auth application-default login` and make sure a quota project is added. Or you can use service accounts instead. For more information about service accounts, see https://cloud.google.com/docs/authentication/\n",
      "  warnings.warn(_CLOUD_SDK_CREDENTIALS_WARNING)\n"
     ]
    },
    {
     "name": "stdout",
     "output_type": "stream",
     "text": [
      "Exported analytics-ahs-owned-thd:AMPLIFAI.CAC_CONFORMANCE_DAILY_DATA_SNAPSHOT to gs://akaboshi/20210319/CAC_CONFORMANCE_DAILY_DATA_SNAPSHOT.csv\n",
      "MASTER_ROSTER_CAC_BSC_SNAPSHOT\n",
      "Exported analytics-ahs-owned-thd:AMPLIFAI.MASTER_ROSTER_CAC_BSC_SNAPSHOT to gs://akaboshi/20210319/MASTER_ROSTER_CAC_BSC_SNAPSHOT.csv\n"
     ]
    },
    {
     "data": {
      "text/plain": [
       "['20210319/CAC_CONFORMANCE_DAILY_DATA_SNAPSHOT.csv',\n",
       " '20210319/MASTER_ROSTER_CAC_BSC_SNAPSHOT.csv']"
      ]
     },
     "execution_count": 8,
     "metadata": {},
     "output_type": "execute_result"
    }
   ],
   "source": [
    "# Extract BQ Tables to GCS Bucket BLOB (Binary Large OBject)\n",
    "blob_paths = []\n",
    "for table in table_list:\n",
    "    print(table)\n",
    "    blob_paths.append(extract_bq_table_to_gcs_bucket(project = \"analytics-ahs-owned-thd\",\n",
    "                                                     snapshot_dataset = \"TEST_DS\", \n",
    "                                                     bucket = \"akaboshi\", \n",
    "                                                     table = table, \n",
    "                                                     date_yyyymmdd =\"20210319\"\n",
    "                                                    )\n",
    "                          )\n",
    "blob_paths"
   ]
  },
  {
   "cell_type": "code",
   "execution_count": 9,
   "metadata": {},
   "outputs": [],
   "source": [
    "def gcs_download_blob(project, gcs_bucket, source_blob_name, destination_file_name):\n",
    "    \"\"\"Downloads a blob from the bucket to a specified destination file.\"\"\"\n",
    "\n",
    "    storage_client = storage.Client(project)\n",
    "\n",
    "    bucket = storage_client.bucket(gcs_bucket)\n",
    "\n",
    "    blob = bucket.blob(source_blob_name)\n",
    "    blob.download_to_filename(destination_file_name)\n",
    "\n",
    "    print(f\"Blob {source_blob_name} downloaded to {destination_file_name}.\")"
   ]
  },
  {
   "cell_type": "code",
   "execution_count": 10,
   "metadata": {},
   "outputs": [
    {
     "data": {
      "text/plain": [
       "['20210319/CAC_CONFORMANCE_DAILY_DATA_SNAPSHOT.csv',\n",
       " '20210319/MASTER_ROSTER_CAC_BSC_SNAPSHOT.csv']"
      ]
     },
     "execution_count": 10,
     "metadata": {},
     "output_type": "execute_result"
    }
   ],
   "source": [
    "blob_paths"
   ]
  },
  {
   "cell_type": "code",
   "execution_count": 11,
   "metadata": {},
   "outputs": [
    {
     "name": "stdout",
     "output_type": "stream",
     "text": [
      "Exported analytics-ahs-owned-thd:AMPLIFAI.CAC_APPT_CONFIRMATION_CLOSERATE_DAILY_SNAPSHOT to gs://akaboshi/20210319/CAC_APPT_CONFIRMATION_CLOSERATE_DAILY_SNAPSHOT.csv\n"
     ]
    },
    {
     "data": {
      "text/plain": [
       "'20210319/CAC_APPT_CONFIRMATION_CLOSERATE_DAILY_SNAPSHOT.csv'"
      ]
     },
     "execution_count": 11,
     "metadata": {},
     "output_type": "execute_result"
    }
   ],
   "source": [
    "extract_bq_table_to_gcs_bucket(\"analytics-ahs-owned-thd\", \"AMPLIFAI\", \"akaboshi\", \"CAC_APPT_CONFIRMATION_CLOSERATE_DAILY_SNAPSHOT\", \"20210319\")"
   ]
  },
  {
   "cell_type": "code",
   "execution_count": 12,
   "metadata": {},
   "outputs": [
    {
     "name": "stdout",
     "output_type": "stream",
     "text": [
      "file_paths: \n",
      "['downloaded_files/CAC_CONFORMANCE_DAILY_DATA_SNAPSHOT.csv', 'downloaded_files/MASTER_ROSTER_CAC_BSC_SNAPSHOT.csv']\n",
      "Blob 20210319/CAC_CONFORMANCE_DAILY_DATA_SNAPSHOT.csv downloaded to downloaded_files/CAC_CONFORMANCE_DAILY_DATA_SNAPSHOT.csv.\n",
      "Blob 20210319/MASTER_ROSTER_CAC_BSC_SNAPSHOT.csv downloaded to downloaded_files/MASTER_ROSTER_CAC_BSC_SNAPSHOT.csv.\n"
     ]
    }
   ],
   "source": [
    "downloaded_file_dir = 'downloaded_files/'\n",
    "if not os.path.isdir(downloaded_file_dir):\n",
    "    os.mkdir(downloaded_file_dir)\n",
    "\n",
    "# assumption for [9:] in next line: start at 10th character; beginning of blob_path is 'YYYYMMDD/'\n",
    "file_names = [x[9:] for x in blob_paths]\n",
    "file_paths = [downloaded_file_dir + x for x in file_names]\n",
    "\n",
    "print('file_paths: ')\n",
    "print(file_paths)\n",
    "\n",
    "for (table, blob_path, file_path) in zip(table_list, blob_paths, file_paths):\n",
    "    gcs_download_blob(project = \"analytics-ahs-owned-thd\", \n",
    "                      gcs_bucket = \"akaboshi\", \n",
    "                      source_blob_name = blob_path, \n",
    "                      destination_file_name = file_path\n",
    "                     )\n"
   ]
  },
  {
   "cell_type": "code",
   "execution_count": 13,
   "metadata": {},
   "outputs": [],
   "source": [
    "downloaded_file_dir = 'downloaded_files/'\n",
    "if not os.path.isdir(downloaded_file_dir):\n",
    "    os.mkdir(downloaded_file_dir)"
   ]
  },
  {
   "cell_type": "code",
   "execution_count": 14,
   "metadata": {},
   "outputs": [
    {
     "data": {
      "text/plain": [
       "<module 'ntpath' from 'C:\\\\Users\\\\yxg0rzh\\\\AppData\\\\Local\\\\Continuum\\\\anaconda3\\\\lib\\\\ntpath.py'>"
      ]
     },
     "execution_count": 14,
     "metadata": {},
     "output_type": "execute_result"
    }
   ],
   "source": [
    "os.path"
   ]
  },
  {
   "cell_type": "code",
   "execution_count": 15,
   "metadata": {},
   "outputs": [
    {
     "ename": "NameError",
     "evalue": "name 'get_user' is not defined",
     "output_type": "error",
     "traceback": [
      "\u001b[1;31m---------------------------------------------------------------------------\u001b[0m",
      "\u001b[1;31mNameError\u001b[0m                                 Traceback (most recent call last)",
      "\u001b[1;32m<ipython-input-15-97f287f88fcb>\u001b[0m in \u001b[0;36m<module>\u001b[1;34m\u001b[0m\n\u001b[1;32m----> 1\u001b[1;33m \u001b[0mget_user\u001b[0m\u001b[1;33m(\u001b[0m\u001b[0mget_auth_token\u001b[0m\u001b[1;33m(\u001b[0m\u001b[1;33m)\u001b[0m\u001b[1;33m)\u001b[0m\u001b[1;33m\u001b[0m\u001b[1;33m\u001b[0m\u001b[0m\n\u001b[0m",
      "\u001b[1;31mNameError\u001b[0m: name 'get_user' is not defined"
     ]
    }
   ],
   "source": [
    "get_user(get_auth_token())"
   ]
  },
  {
   "cell_type": "code",
   "execution_count": 16,
   "metadata": {},
   "outputs": [],
   "source": [
    "def get_attachment_list(file_paths):\n",
    "        attached_files = []\n",
    "        for file_path, file_name in zip(file_paths, file_names):\n",
    "            b64_content = base64.b64encode(open(file_path, 'rb').read())\n",
    "            assert len(b64_content) / (1000000) < 4, file_name + ': Attachments must be < 4 MB each'\n",
    "#             mime_type = mimetypes.guess_type(filename)[0]\n",
    "#             mime_type = mime_type if mime_type else ''\n",
    "            attached_files.append(\n",
    "                {'@odata.type': '#microsoft.graph.fileAttachment',\n",
    "                 'name': file_name,\n",
    "                 'contentType': \"text/csv\",\n",
    "                 'contentBytes': b64_content.decode('utf-8')\n",
    "                }\n",
    "            )\n",
    "        return attached_files"
   ]
  },
  {
   "cell_type": "code",
   "execution_count": null,
   "metadata": {},
   "outputs": [],
   "source": [
    "# get_attachment_list(file_paths)"
   ]
  },
  {
   "cell_type": "code",
   "execution_count": null,
   "metadata": {},
   "outputs": [],
   "source": [
    "[{'@odata.type': '#microsoft.graph.fileAttachment',\n",
    "  'name': 'CAC_CONFORMANCE_DAILY_DATA_SNAPSHOT.csv',\n",
    "  'contentType': 'text/csv',\n",
    "  'contentBytes': 'REFURSxBR0VOVF9JRCxMREFQLEFkaGVyZW5jZUV4Y2VwdGlvblNlY29uZHMsU2NoZWR1bGVkU2Vjb25kcwoyMDIwLTEyLTA3LDM0MDIxLEJYRzQzMywxOTgwMCwyNzkwMAoyMDIwLTA5LTEwLDM0MDIxLEJYRzQzMywxMTI4MCwxNjk4MAoyMDIwLTA5LTA5LDM0MDIxLEJYRzQzMywxMTc2MCwxMzc0MAoyMDIwLTA4LTMxLDM0MDIxLEJYRzQzMywxNjA4MCwzMDQ4MAoyMDIwLTEwLTA1LDM0MDIxLEJYRzQzMywxNTc4MCwyMzI4MAoyMDIwLTA5LTAyLDM0MDIxLEJYRzQzMyw3OTgwLDExNzAwCjIwMjEtMDEtMDQsMzQwMjEsQlhHNDMzLDE4OTYwLDI4NzQwCjIwMjAtMDktMTUsNjM3MjgsVE1RNDdWLDIyNzQwLDI1ODAwCjIwMjAtMDktMDUsNjM3MjgsVE1RNDdWLDExMjgwLDEwODA"
   ]
  },
  {
   "cell_type": "code",
   "execution_count": 18,
   "metadata": {},
   "outputs": [
    {
     "data": {
      "text/plain": [
       "['downloaded_files/CAC_CONFORMANCE_DAILY_DATA_SNAPSHOT.csv',\n",
       " 'downloaded_files/MASTER_ROSTER_CAC_BSC_SNAPSHOT.csv']"
      ]
     },
     "execution_count": 18,
     "metadata": {},
     "output_type": "execute_result"
    }
   ],
   "source": [
    "file_paths"
   ]
  },
  {
   "cell_type": "code",
   "execution_count": 19,
   "metadata": {},
   "outputs": [],
   "source": [
    "def send_email(file_paths, file_names, toRecipients):\n",
    "    API_VERSION = 'v1.0'\n",
    "\n",
    "    APP_ID = \"d5351b39-a423-4215-857e-77250f6e899f\"\n",
    "    TENANT = \"fb7e6711-b619-4fbe-afe6-f83b12673323\"\n",
    "    SECRET = \"5ZT1HH=X8t[_[8r3@ardnqoSglo6pA8n\"\n",
    "    SENDER_EMAIL = \"Services_Analytics_Support@homedepot.com\"\n",
    "\n",
    "    def get_auth_token():\n",
    "        \"\"\"\n",
    "        POST /{tenant}/oauth2/v2.0/token HTTP/1.1           //Line breaks for clarity\n",
    "        Host: login.microsoftonline.com\n",
    "        Content-Type: application/x-www-form-urlencoded\n",
    "\n",
    "        client_id=\n",
    "        &scope=https%3A%2F%2Fgraph.microsoft.com%2F.default\n",
    "        &client_secret=\n",
    "        &grant_type=client_credentials\n",
    "        :return:\n",
    "        \"\"\"\n",
    "\n",
    "        AUTH_URL = \"https://login.microsoftonline.com/{tenant}/oauth2/v2.0/token\"\n",
    "\n",
    "        payload = {\"client_id\": APP_ID,\n",
    "                   \"scope\": \"https://graph.microsoft.com/.default\",\n",
    "                   \"client_secret\": SECRET,\n",
    "                   \"grant_type\": \"client_credentials\"}\n",
    "\n",
    "        headers = {'content-type': 'application/x-www-form-urlencoded'}\n",
    "\n",
    "        response = requests.post(AUTH_URL.format(tenant=TENANT, client_id=APP_ID, secret=SECRET), data=payload, headers=headers)\n",
    "\n",
    "        return response.json()\n",
    "\n",
    "    def get_attachment_list(file_paths):\n",
    "        attached_files = []\n",
    "        for file_path, file_name in zip(file_paths, file_names):\n",
    "            b64_content = base64.b64encode(open(file_path, 'rb').read())\n",
    "            assert len(b64_content) / (1000000) < 4, file_name + ': Attachments must be < 4 MB each'\n",
    "#             mime_type = mimetypes.guess_type(filename)[0]\n",
    "#             mime_type = mime_type if mime_type else ''\n",
    "            attached_files.append(\n",
    "                {'@odata.type': '#microsoft.graph.fileAttachment',\n",
    "                 'name': file_name,\n",
    "                 'contentType': \"text/csv\",\n",
    "                 'contentBytes': b64_content.decode('utf-8')\n",
    "                }\n",
    "            )\n",
    "        return attached_files\n",
    "    \n",
    "    def send_mail(token, toRecipients):\n",
    "        \"\"\"\n",
    "        Other available options are:\n",
    "\n",
    "        importance:  Low, Normal, High\n",
    "\n",
    "        For all other options on the email see:\n",
    "        https://docs.microsoft.com/en-us/graph/api/resources/message?view=graph-rest-1.0\n",
    "\n",
    "\n",
    "        \"\"\"     \n",
    "        \n",
    "        body = {\n",
    "            \"message\": {\n",
    "                \"importance\": \"Normal\",\n",
    "                \"subject\": \"THD SOCC Scorecard\",\n",
    "                \"body\": {\n",
    "                    \"contentType\": \"Text\",\n",
    "                    \"content\": \"\"\n",
    "                },\n",
    "                \"toRecipients\": toRecipients,\n",
    "                \"attachments\": get_attachment_list(file_paths)\n",
    "            },\n",
    "            \"saveToSentItems\": \"true\"\n",
    "        }\n",
    "\n",
    "        headers = {'Authorization': '{token_type} {token}'.format(token_type=token.get('token_type'), token=token.get('access_token')),\n",
    "                   \"Content-type\": \"application/json\"}\n",
    "\n",
    "        GRAPH_URL = f\"https://graph.microsoft.com/{API_VERSION}/users/{SENDER_EMAIL}/sendMail\"\n",
    "\n",
    "        response = requests.post(GRAPH_URL, headers=headers, json=body)\n",
    "        \n",
    "        return response\n",
    "\n",
    "    if __name__ == \"__main__\":\n",
    "        token_response = get_auth_token()\n",
    "        print(token_response)\n",
    "        send_mail_response = send_mail(token_response, toRecipients)\n",
    "    \n",
    "    return [token_response, send_mail_response]"
   ]
  },
  {
   "cell_type": "code",
   "execution_count": 20,
   "metadata": {},
   "outputs": [
    {
     "name": "stdout",
     "output_type": "stream",
     "text": [
      "{'token_type': 'Bearer', 'expires_in': 3599, 'ext_expires_in': 3599, 'access_token': 'eyJ0eXAiOiJKV1QiLCJub25jZSI6InNDNUxQVW5Sd0tFMEl4NGI4SUxLUEttTHpfNE1seHhCaDVSbENEeEJzZzgiLCJhbGciOiJSUzI1NiIsIng1dCI6Im5PbzNaRHJPRFhFSzFqS1doWHNsSFJfS1hFZyIsImtpZCI6Im5PbzNaRHJPRFhFSzFqS1doWHNsSFJfS1hFZyJ9.eyJhdWQiOiJodHRwczovL2dyYXBoLm1pY3Jvc29mdC5jb20iLCJpc3MiOiJodHRwczovL3N0cy53aW5kb3dzLm5ldC9mYjdlNjcxMS1iNjE5LTRmYmUtYWZlNi1mODNiMTI2NzMzMjMvIiwiaWF0IjoxNjE4NTIwMDE3LCJuYmYiOjE2MTg1MjAwMTcsImV4cCI6MTYxODUyMzkxNywiYWlvIjoiRTJaZ1lHZzFpSzc0RTNLTE9aVHQ2TGRLMjRhSEFBPT0iLCJhcHBfZGlzcGxheW5hbWUiOiJTZXJ2aWNlQW5hbHl0aWNzU3VwcG9ydCIsImFwcGlkIjoiZDUzNTFiMzktYTQyMy00MjE1LTg1N2UtNzcyNTBmNmU4OTlmIiwiYXBwaWRhY3IiOiIxIiwiaWRwIjoiaHR0cHM6Ly9zdHMud2luZG93cy5uZXQvZmI3ZTY3MTEtYjYxOS00ZmJlLWFmZTYtZjgzYjEyNjczMzIzLyIsImlkdHlwIjoiYXBwIiwib2lkIjoiOTI3MWFjYzUtMTc1MS00NzQxLThiM2MtNjFhNjBkNzA2MDFiIiwicmgiOiIwLkFRNEFFV2QtLXhtMnZrLXY1dmc3RW1jekl6a2JOZFVqcEJWQ2hYNTNKUTl1aVo4T0FBQS4iLCJyb2xlcyI6WyJNYWlsLlNlbmQiXSwic3ViIjoiOTI3MWFjYzUtMTc1MS00NzQxLThiM2MtNjFhNjBkNzA2MDFiIiwidGVuYW50X3JlZ2lvbl9zY29wZSI6Ik5BIiwidGlkIjoiZmI3ZTY3MTEtYjYxOS00ZmJlLWFmZTYtZjgzYjEyNjczMzIzIiwidXRpIjoiYW85dHoxMVVjVUc5OVkweUxic09BQSIsInZlciI6IjEuMCIsInhtc190Y2R0IjoxMzgwNzM0NDI4fQ.kGAu72ZhBvNOsDE3r3BP3urU6W-lq5kRALDuS78BOaaJ7FJchfhTRtavttqIKiZy510XWXXM14W3hwHupwDZVxEIxKamxSLETHdAQ6s136G0-jUg0fxzBB3S_fyQ3NoVAveoum_wZCuokMqvFZStnajiYK4s661Ah0rqvdKIuAEOfY1icd8w_22SN7ybwH6yeS2JyhNkyMDpFa_JCiIZvglKW2whOzxPEy31oU5tw4IoxcFE5wrRVxg7aYD_DbYfFb47zSMgLjE8CtB0keVe56cDAItPTnC8qglmaxOOQykQVWPopn8mEyaPT-WBqrnfVyCD0I1KZhAhal_7gi_-ww'}\n"
     ]
    }
   ],
   "source": [
    "email_output = send_email(file_paths = file_paths, file_names = file_names, toRecipients = toRecipients)\n"
   ]
  },
  {
   "cell_type": "code",
   "execution_count": 21,
   "metadata": {},
   "outputs": [
    {
     "name": "stdout",
     "output_type": "stream",
     "text": [
      "Headers:\n",
      "b''\n"
     ]
    }
   ],
   "source": [
    "print('Headers:')\n",
    "print(email_output[1].content)"
   ]
  },
  {
   "cell_type": "code",
   "execution_count": 22,
   "metadata": {},
   "outputs": [
    {
     "name": "stdout",
     "output_type": "stream",
     "text": [
      "  No Error: HTTP Status 202\n"
     ]
    }
   ],
   "source": [
    "if email_output[1].content == b'':\n",
    "    print('  No Error: HTTP Status ' + str(email_output[1].status_code))\n",
    "else:\n",
    "    print('  ' + str(email_output[1].content))"
   ]
  },
  {
   "cell_type": "code",
   "execution_count": 23,
   "metadata": {},
   "outputs": [],
   "source": [
    "for file in file_paths:\n",
    "    os.remove(file)\n",
    "os.rmdir(downloaded_file_dir)"
   ]
  }
 ],
 "metadata": {
  "kernelspec": {
   "display_name": "Python 3",
   "language": "python",
   "name": "python3"
  },
  "language_info": {
   "codemirror_mode": {
    "name": "ipython",
    "version": 3
   },
   "file_extension": ".py",
   "mimetype": "text/x-python",
   "name": "python",
   "nbconvert_exporter": "python",
   "pygments_lexer": "ipython3",
   "version": "3.7.3"
  }
 },
 "nbformat": 4,
 "nbformat_minor": 2
}
