{
 "cells": [
  {
   "cell_type": "code",
   "execution_count": 1,
   "metadata": {},
   "outputs": [],
   "source": [
    "from sklearn.preprocessing import OneHotEncoder"
   ]
  },
  {
   "cell_type": "code",
   "execution_count": 2,
   "metadata": {},
   "outputs": [],
   "source": [
    "import numpy as np\n",
    "import pandas as pd"
   ]
  },
  {
   "cell_type": "code",
   "execution_count": 21,
   "metadata": {},
   "outputs": [],
   "source": [
    "train = [['Red'], ['Blue'],['Green']]"
   ]
  },
  {
   "cell_type": "code",
   "execution_count": 22,
   "metadata": {},
   "outputs": [],
   "source": [
    "enc = OneHotEncoder(handle_unknown='ignore')\n"
   ]
  },
  {
   "cell_type": "code",
   "execution_count": 26,
   "metadata": {},
   "outputs": [],
   "source": [
    "train_transform = enc.fit_transform(train).toarray()"
   ]
  },
  {
   "cell_type": "code",
   "execution_count": 27,
   "metadata": {},
   "outputs": [
    {
     "data": {
      "text/plain": [
       "array([[0., 0., 1.],\n",
       "       [1., 0., 0.],\n",
       "       [0., 1., 0.]])"
      ]
     },
     "execution_count": 27,
     "metadata": {},
     "output_type": "execute_result"
    }
   ],
   "source": [
    "train_transform"
   ]
  },
  {
   "cell_type": "markdown",
   "metadata": {},
   "source": [
    "## Properly coded\n",
    "- Fit_transform only called on train data and transform called on test and validation"
   ]
  },
  {
   "cell_type": "code",
   "execution_count": 35,
   "metadata": {},
   "outputs": [
    {
     "name": "stdout",
     "output_type": "stream",
     "text": [
      "Train shape: (3, 6) \n",
      "[[0. 0. 1. 1. 0. 0.]\n",
      " [1. 0. 0. 0. 0. 1.]\n",
      " [0. 1. 0. 0. 1. 0.]]\n",
      "\n",
      "Test shape: (3, 6) \n",
      "[[0. 0. 1. 1. 0. 0.]\n",
      " [1. 0. 0. 0. 1. 0.]\n",
      " [0. 1. 0. 0. 1. 0.]]\n",
      "\n",
      "Val shape: (2, 6) \n",
      "[[0. 0. 1. 1. 0. 0.]\n",
      " [0. 0. 0. 0. 0. 1.]]\n"
     ]
    }
   ],
   "source": [
    "# Encode\n",
    "enc = OneHotEncoder(handle_unknown='ignore')\n",
    "train = [['Red', 1], ['Blue', 3], ['Green', 2]]\n",
    "test = [['Red', 1], ['Blue', 2], ['Green', 2]]\n",
    "val = [['Red', 1], ['Yellow', 3]] # Contains unseen class\n",
    "\n",
    "#Fit and transform\n",
    "train_transform = enc.fit_transform(train).toarray()\n",
    "test_transform = enc.transform(test).toarray()\n",
    "val_transform = enc.transform(val).toarray()\n",
    "\n",
    "#Ouptut\n",
    "print(f'Train shape: {train_transform.shape} \\n{train_transform}')\n",
    "print(f'\\nTest shape: {test_transform.shape} \\n{test_transform}')\n",
    "print(f'\\nVal shape: {val_transform.shape} \\n{val_transform}')"
   ]
  },
  {
   "cell_type": "markdown",
   "metadata": {},
   "source": [
    "## Calling fit_transform at all stages"
   ]
  },
  {
   "cell_type": "markdown",
   "metadata": {},
   "source": [
    "**Notice when fit_transform is called on all datasets that we now have a mismatch in columns between training and validation**"
   ]
  },
  {
   "cell_type": "code",
   "execution_count": 29,
   "metadata": {},
   "outputs": [],
   "source": [
    "lis = [\"tommy\",\"frank\"]"
   ]
  },
  {
   "cell_type": "code",
   "execution_count": 30,
   "metadata": {},
   "outputs": [
    {
     "data": {
      "text/plain": [
       "'tommy..frank'"
      ]
     },
     "execution_count": 30,
     "metadata": {},
     "output_type": "execute_result"
    }
   ],
   "source": [
    "\"..\".join(lis)"
   ]
  },
  {
   "cell_type": "code",
   "execution_count": null,
   "metadata": {},
   "outputs": [],
   "source": []
  }
 ],
 "metadata": {
  "kernelspec": {
   "display_name": "Python 3",
   "language": "python",
   "name": "python3"
  },
  "language_info": {
   "codemirror_mode": {
    "name": "ipython",
    "version": 3
   },
   "file_extension": ".py",
   "mimetype": "text/x-python",
   "name": "python",
   "nbconvert_exporter": "python",
   "pygments_lexer": "ipython3",
   "version": "3.7.3"
  }
 },
 "nbformat": 4,
 "nbformat_minor": 4
}
