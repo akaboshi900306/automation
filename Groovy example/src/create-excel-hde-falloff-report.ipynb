{
 "cells": [
  {
   "cell_type": "code",
   "execution_count": null,
   "metadata": {},
   "outputs": [],
   "source": [
    "run_date = ''\n",
    "output_bucket = ''"
   ]
  },
  {
   "cell_type": "markdown",
   "metadata": {},
   "source": [
    "### Get tables from BigQuery"
   ]
  },
  {
   "cell_type": "code",
   "execution_count": null,
   "metadata": {},
   "outputs": [],
   "source": [
    "from google.cloud import bigquery\n",
    "def bigquery_table_to_df(project_id, dataset_id, table_id):\n",
    "    client = bigquery.Client(project_id)\n",
    "    \n",
    "    table_ref = bigquery.DatasetReference(project_id, dataset_id).table(table_id)\n",
    "    table = client.get_table(table_ref)\n",
    "\n",
    "    df = client.list_rows(table).to_dataframe()\n",
    "    \n",
    "    return df"
   ]
  },
  {
   "cell_type": "code",
   "execution_count": null,
   "metadata": {},
   "outputs": [],
   "source": [
    "df_div_reg = bigquery_table_to_df(\"analytics-ahs-owned-thd\", \"STG5\", f'HDE_FALLOFF_EXCEL_DIVISION_REGION_{run_date}')\n",
    "df_div_branch = bigquery_table_to_df(\"analytics-ahs-owned-thd\", \"STG5\", f\"HDE_FALLOFF_EXCEL_BOTTOM_5_BRANCH_PER_DIVISION_{run_date}\")"
   ]
  },
  {
   "cell_type": "code",
   "execution_count": null,
   "metadata": {},
   "outputs": [],
   "source": [
    "df_div_reg"
   ]
  },
  {
   "cell_type": "code",
   "execution_count": null,
   "metadata": {},
   "outputs": [],
   "source": [
    "df_div_branch"
   ]
  },
  {
   "cell_type": "markdown",
   "metadata": {},
   "source": [
    "### openpyxl testing: Create workbook and write data to it"
   ]
  },
  {
   "cell_type": "code",
   "execution_count": null,
   "metadata": {},
   "outputs": [],
   "source": [
    "test_date_1 = '2021-01-01'\n",
    "test_fw = 1\n",
    "test_fw_begin = '1/1'\n",
    "test_fw_end = '1/7'\n",
    "\n",
    "header = ['Fall Off Report', \n",
    "          f'data refreshed: {test_date_1}', \n",
    "          f'Uses LMS BOW snapshot from {test_fw_begin}, beginning of FW{test_fw} (jobs that were scheduled to be installed between {test_fw_begin} & {test_fw_end})',\n",
    "          f'HDIS Scorecard Data: FW{test_fw}',\n",
    "          '',\n",
    "          'by Region',\n",
    "          '',\n",
    "          '',\n",
    "          ''\n",
    "         ]\n",
    "\n",
    "len(header)"
   ]
  },
  {
   "cell_type": "code",
   "execution_count": null,
   "metadata": {},
   "outputs": [],
   "source": [
    "from google.cloud import storage\n",
    "\n",
    "def upload_blob(source_file_name, project_id, bucket_name, destination_blob_name):\n",
    "    \"\"\"Uploads a file to the bucket.\"\"\"\n",
    "\n",
    "    storage_client = storage.Client(project_id)\n",
    "    bucket = storage_client.bucket(bucket_name)\n",
    "    blob = bucket.blob(destination_blob_name)\n",
    "\n",
    "    blob.upload_from_filename(source_file_name)\n",
    "\n",
    "    print(f\"File {source_file_name} uploaded to {destination_blob_name}.\")"
   ]
  },
  {
   "cell_type": "code",
   "execution_count": null,
   "metadata": {},
   "outputs": [],
   "source": [
    "from openpyxl.workbook import Workbook\n",
    "from openpyxl.utils.dataframe import dataframe_to_rows\n",
    "\n",
    "rows = dataframe_to_rows(df_div_reg, index=False, header=False)\n",
    "\n",
    "wb = Workbook()\n",
    "\n",
    "ws = wb.active\n",
    "\n",
    "header_length = len(header)\n",
    "\n",
    "for i, header_val in enumerate(header):\n",
    "    ws.cell(row = i+1, column = 2).value = header[i]\n",
    "\n",
    "for r_idx, row in enumerate(rows, 1):\n",
    "    for c_idx, value in enumerate(row, 1):\n",
    "         ws.cell(row=r_idx + header_length, column=c_idx, value=value)\n",
    "\n",
    "wb.save(\"../FallOffReport.xlsx\")"
   ]
  },
  {
   "cell_type": "code",
   "execution_count": null,
   "metadata": {},
   "outputs": [],
   "source": [
    "upload_blob(source_file_name = \"../FallOffReport.xlsx\", project_id = \"analytics-ahs-owned-thd\",\n",
    "            bucket_name = output_bucket, destination_blob_name = \"FallOffReport.xlsx\")"
   ]
  },
  {
   "cell_type": "code",
   "execution_count": null,
   "metadata": {},
   "outputs": [],
   "source": []
  }
 ],
 "metadata": {
  "kernelspec": {
   "display_name": "Python 3",
   "language": "python",
   "name": "python3"
  },
  "language_info": {
   "codemirror_mode": {
    "name": "ipython",
    "version": 3
   },
   "file_extension": ".py",
   "mimetype": "text/x-python",
   "name": "python",
   "nbconvert_exporter": "python",
   "pygments_lexer": "ipython3",
   "version": "3.6.8"
  }
 },
 "nbformat": 4,
 "nbformat_minor": 4
}
