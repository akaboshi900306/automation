{
 "cells": [
  {
   "cell_type": "code",
   "execution_count": 1,
   "metadata": {},
   "outputs": [],
   "source": [
    "project_id = 'analytics-ahs-owned-thd'\n",
    "PR='PR'\n",
    "query_name_list=['falloff_comments']"
   ]
  },
  {
   "cell_type": "code",
   "execution_count": 2,
   "metadata": {
    "scrolled": true
   },
   "outputs": [
    {
     "name": "stderr",
     "output_type": "stream",
     "text": [
      "[nltk_data] Downloading package wordnet to\n",
      "[nltk_data]     C:\\Users\\jlm3455\\AppData\\Roaming\\nltk_data...\n",
      "[nltk_data]   Package wordnet is already up-to-date!\n"
     ]
    }
   ],
   "source": [
    "import logging\n",
    "import os\n",
    "os.environ['PROJECT_ID'] = project_id\n",
    "\n",
    "import time, math, types\n",
    "from datetime import date, datetime\n",
    "from google.cloud import bigquery\n",
    "import pandas as pd\n",
    "import numpy as np\n",
    "from preprocess_pipeline_review import *\n",
    "import nltk\n",
    "nltk.download('wordnet')\n",
    "from nltk.stem.wordnet import WordNetLemmatizer\n",
    "from nltk.corpus import wordnet as wn\n",
    "from google.auth import compute_engine\n",
    "# import fastcluster\n",
    "import tensorflow as tf\n",
    "import tensorflow_hub as hub\n",
    "\n",
    "from sklearn.cluster import KMeans\n",
    "import matplotlib.pyplot as plt\n",
    "from kneed import KneeLocator\n",
    "from sklearn import metrics\n",
    "import pickle\n",
    "from scipy.spatial.distance import cdist\n",
    "\n",
    "\n",
    "logger = logging.getLogger('hde_falloff_reason')\n",
    "\n",
    "#print('Packages Loaded')"
   ]
  },
  {
   "cell_type": "code",
   "execution_count": 3,
   "metadata": {},
   "outputs": [],
   "source": [
    "NLP = spacy.load('en_core_web_sm', disable=['ner','textcat'])\n",
    "\n",
    "Lmtzr = WordNetLemmatizer()"
   ]
  },
  {
   "cell_type": "code",
   "execution_count": 4,
   "metadata": {},
   "outputs": [],
   "source": [
    "GOOG_USE_PATH = 'https://tfhub.dev/google/universal-sentence-encoder/4'\n",
    "USE_embed = hub.load(GOOG_USE_PATH)\n",
    "# MAX_ASPECTS = 20  # maximum number of aspects per OMSID\n",
    "USE_SIM_THRESH = 0.45 ## threshold for similarity, cosin similarity, google universal sent embed."
   ]
  },
  {
   "cell_type": "code",
   "execution_count": 5,
   "metadata": {
    "scrolled": false
   },
   "outputs": [],
   "source": [
    "# !python -m pip freeze"
   ]
  },
  {
   "cell_type": "code",
   "execution_count": 6,
   "metadata": {},
   "outputs": [],
   "source": [
    "def get_queries(query_name_list = ['falloff_comments'],PR='PR'):\n",
    "    if PR=='PR':\n",
    "        query_directory = os.path.abspath(os.path.join(os.getcwd(), '..','sql'))\n",
    "    elif PR=='DEV':\n",
    "        query_directory = os.path.abspath(os.path.join(os.getcwd(), '..','sql_dev'))\n",
    "    query_list = []\n",
    "    \n",
    "        \n",
    "    for name in query_name_list:\n",
    "        fd = open(os.path.join(query_directory, name.lower()+\".sql\"), 'r')\n",
    "        sqlFile = fd.read()\n",
    "        fd.close()\n",
    "        query_list.append(sqlFile)                         \n",
    "#         query_list.append(sqlFile.format(date.today().strftime(\"%Y%m%d\")))                         \n",
    "    \n",
    "    logger.info('Queries Loaded')\n",
    "    return dict(zip(query_name_list,query_list))\n",
    "    "
   ]
  },
  {
   "cell_type": "code",
   "execution_count": 7,
   "metadata": {},
   "outputs": [],
   "source": [
    "def nlp_clean_pipe(text): ## general cleaning pipeline\n",
    "    ## maybe add spelling correction\n",
    "\n",
    "    text = formalize_str(text)\n",
    "    text = replace_URL(text)\n",
    "    text = filter_stop_sentences(text)\n",
    "    text = text.replace('set up','setup') # should be handled in a dict like contractions\n",
    "    text = text.replace('put together','assemble') # should be handled in a dict like contractions\n",
    "#     text = correct_spelling(text)\n",
    "\n",
    "    return( text)"
   ]
  },
  {
   "cell_type": "code",
   "execution_count": 8,
   "metadata": {},
   "outputs": [
    {
     "name": "stderr",
     "output_type": "stream",
     "text": [
      "C:\\Users\\jlm3455\\OneDrive - The Home Depot\\Documents\\GIT\\hde-falloff-reason\\venv\\lib\\site-packages\\google\\auth\\_default.py:69: UserWarning: Your application has authenticated using end user credentials from Google Cloud SDK without a quota project. You might receive a \"quota exceeded\" or \"API not enabled\" error. We recommend you rerun `gcloud auth application-default login` and make sure a quota project is added. Or you can use service accounts instead. For more information about service accounts, see https://cloud.google.com/docs/authentication/\n",
      "  warnings.warn(_CLOUD_SDK_CREDENTIALS_WARNING)\n",
      "WARNING:google.auth._default:No project ID could be determined. Consider running `gcloud config set project` or setting the GOOGLE_CLOUD_PROJECT environment variable\n"
     ]
    }
   ],
   "source": [
    "def run(query_name_list): #query_name_list,PR,\n",
    "    pass\n",
    "\n",
    "query_name_list = [name.lower() for name in query_name_list]\n",
    "    \n",
    "bq = bigquery.Client(project=project_id)\n",
    "\n",
    "queries = get_queries(query_name_list,PR)\n",
    "bq_data = {}\n",
    "\n",
    "for name in query_name_list:        \n",
    "        bq_job = bq.query(queries[name])\n",
    "        bq_data[name] = bq_job.result().to_dataframe()"
   ]
  },
  {
   "cell_type": "code",
   "execution_count": 9,
   "metadata": {},
   "outputs": [],
   "source": [
    "# for query in query_name_list:\n",
    "query = query_name_list[0]"
   ]
  },
  {
   "cell_type": "code",
   "execution_count": 10,
   "metadata": {},
   "outputs": [
    {
     "data": {
      "text/html": [
       "<div>\n",
       "<style scoped>\n",
       "    .dataframe tbody tr th:only-of-type {\n",
       "        vertical-align: middle;\n",
       "    }\n",
       "\n",
       "    .dataframe tbody tr th {\n",
       "        vertical-align: top;\n",
       "    }\n",
       "\n",
       "    .dataframe thead th {\n",
       "        text-align: right;\n",
       "    }\n",
       "</style>\n",
       "<table border=\"1\" class=\"dataframe\">\n",
       "  <thead>\n",
       "    <tr style=\"text-align: right;\">\n",
       "      <th></th>\n",
       "      <th>ord</th>\n",
       "      <th>rev_ord</th>\n",
       "      <th>liAuditDateTime</th>\n",
       "      <th>liLead</th>\n",
       "      <th>liDate2</th>\n",
       "      <th>LDFUPDATE</th>\n",
       "      <th>TYPE</th>\n",
       "      <th>FALLOFF_FLAG</th>\n",
       "      <th>SELECTED_REASON</th>\n",
       "      <th>WEATHER_FLAG</th>\n",
       "      <th>COMMENTS</th>\n",
       "    </tr>\n",
       "  </thead>\n",
       "  <tbody>\n",
       "    <tr>\n",
       "      <th>0</th>\n",
       "      <td>2</td>\n",
       "      <td>4</td>\n",
       "      <td>2019-07-15 15:25:33</td>\n",
       "      <td>10905366</td>\n",
       "      <td>None</td>\n",
       "      <td>2019-07-19 00:00:00</td>\n",
       "      <td>Unscheduled</td>\n",
       "      <td>True</td>\n",
       "      <td>Unschedule Reason code -  Customer Requested</td>\n",
       "      <td>False</td>\n",
       "      <td>' Job in Progress Call' task completed|Comment...</td>\n",
       "    </tr>\n",
       "    <tr>\n",
       "      <th>1</th>\n",
       "      <td>3</td>\n",
       "      <td>3</td>\n",
       "      <td>2019-07-18 16:00:51</td>\n",
       "      <td>10905366</td>\n",
       "      <td>2019-07-18 00:00:00</td>\n",
       "      <td>2019-07-19 00:00:00</td>\n",
       "      <td>Rescheduled</td>\n",
       "      <td>False</td>\n",
       "      <td>Unschedule Reason code -  Customer Requested</td>\n",
       "      <td>False</td>\n",
       "      <td>Reached Out To Installer Kevin Goodale For An ...</td>\n",
       "    </tr>\n",
       "    <tr>\n",
       "      <th>2</th>\n",
       "      <td>4</td>\n",
       "      <td>2</td>\n",
       "      <td>2019-07-18 16:07:51</td>\n",
       "      <td>10905366</td>\n",
       "      <td>None</td>\n",
       "      <td>2019-07-19 00:00:00</td>\n",
       "      <td>Unscheduled</td>\n",
       "      <td>True</td>\n",
       "      <td>Unschedule Reason code -  Customer Requested</td>\n",
       "      <td>False</td>\n",
       "      <td>|||coc and voc mentioned.|Comments from HDEWor...</td>\n",
       "    </tr>\n",
       "    <tr>\n",
       "      <th>3</th>\n",
       "      <td>5</td>\n",
       "      <td>1</td>\n",
       "      <td>2019-07-18 16:09:21</td>\n",
       "      <td>10905366</td>\n",
       "      <td>2019-07-19 00:00:00</td>\n",
       "      <td>2019-07-19 00:00:00</td>\n",
       "      <td>Rescheduled</td>\n",
       "      <td>False</td>\n",
       "      <td>No reason found</td>\n",
       "      <td>False</td>\n",
       "      <td>coc and voc mentioned.|Comments from HDEWorkfl...</td>\n",
       "    </tr>\n",
       "    <tr>\n",
       "      <th>4</th>\n",
       "      <td>2</td>\n",
       "      <td>1</td>\n",
       "      <td>2019-07-29 10:35:21</td>\n",
       "      <td>10905367</td>\n",
       "      <td>2019-08-19 00:00:00</td>\n",
       "      <td>2019-08-19 00:00:00</td>\n",
       "      <td>Rescheduled</td>\n",
       "      <td>False</td>\n",
       "      <td>Reschedule Reason code -  Customer Conflict / ...</td>\n",
       "      <td>False</td>\n",
       "      <td>Installation RE-scheduled for 8/12 .  Installe...</td>\n",
       "    </tr>\n",
       "  </tbody>\n",
       "</table>\n",
       "</div>"
      ],
      "text/plain": [
       "   ord  rev_ord      liAuditDateTime    liLead              liDate2  \\\n",
       "0    2        4  2019-07-15 15:25:33  10905366                 None   \n",
       "1    3        3  2019-07-18 16:00:51  10905366  2019-07-18 00:00:00   \n",
       "2    4        2  2019-07-18 16:07:51  10905366                 None   \n",
       "3    5        1  2019-07-18 16:09:21  10905366  2019-07-19 00:00:00   \n",
       "4    2        1  2019-07-29 10:35:21  10905367  2019-08-19 00:00:00   \n",
       "\n",
       "             LDFUPDATE         TYPE  FALLOFF_FLAG  \\\n",
       "0  2019-07-19 00:00:00  Unscheduled          True   \n",
       "1  2019-07-19 00:00:00  Rescheduled         False   \n",
       "2  2019-07-19 00:00:00  Unscheduled          True   \n",
       "3  2019-07-19 00:00:00  Rescheduled         False   \n",
       "4  2019-08-19 00:00:00  Rescheduled         False   \n",
       "\n",
       "                                     SELECTED_REASON  WEATHER_FLAG  \\\n",
       "0       Unschedule Reason code -  Customer Requested         False   \n",
       "1       Unschedule Reason code -  Customer Requested         False   \n",
       "2       Unschedule Reason code -  Customer Requested         False   \n",
       "3                                    No reason found         False   \n",
       "4  Reschedule Reason code -  Customer Conflict / ...         False   \n",
       "\n",
       "                                            COMMENTS  \n",
       "0  ' Job in Progress Call' task completed|Comment...  \n",
       "1  Reached Out To Installer Kevin Goodale For An ...  \n",
       "2  |||coc and voc mentioned.|Comments from HDEWor...  \n",
       "3  coc and voc mentioned.|Comments from HDEWorkfl...  \n",
       "4  Installation RE-scheduled for 8/12 .  Installe...  "
      ]
     },
     "execution_count": 10,
     "metadata": {},
     "output_type": "execute_result"
    }
   ],
   "source": [
    "bq_data[query].head()"
   ]
  },
  {
   "cell_type": "code",
   "execution_count": 11,
   "metadata": {},
   "outputs": [],
   "source": [
    "bq_data[query]['CLEANED_COMMENTS'] = bq_data[query]['COMMENTS'].apply(nlp_clean_pipe)"
   ]
  },
  {
   "cell_type": "code",
   "execution_count": 12,
   "metadata": {},
   "outputs": [],
   "source": [
    "bq_data[query]['LEMMATIZED_COMMENTS'] = bq_data[query]['CLEANED_COMMENTS'].apply(lambda words:' '.join([Lmtzr.lemmatize(word) for word in words.split()]))"
   ]
  },
  {
   "cell_type": "code",
   "execution_count": 13,
   "metadata": {},
   "outputs": [],
   "source": [
    "# print(bq_data[query]['CLEANED_COMMENTS'][0])\n",
    "# print(bq_data[query]['LEMMATIZED_COMMENTS'][0])"
   ]
  },
  {
   "cell_type": "code",
   "execution_count": 14,
   "metadata": {},
   "outputs": [],
   "source": [
    "bq_data[query]['EMBEDED_COMMENTS'] = bq_data[query]['LEMMATIZED_COMMENTS'].apply(lambda x:list(USE_embed([x])[0].numpy()))"
   ]
  },
  {
   "cell_type": "code",
   "execution_count": 15,
   "metadata": {
    "scrolled": true
   },
   "outputs": [],
   "source": [
    "# bq_data[query]['EMBEDED_COMMENTS'].head(1)"
   ]
  },
  {
   "cell_type": "code",
   "execution_count": 16,
   "metadata": {},
   "outputs": [],
   "source": [
    "kmeans_kwargs = {\n",
    "     \"init\": \"random\",\n",
    "     \"n_init\": 10,\n",
    "     \"max_iter\": 300,\n",
    "     \"random_state\": 42,\n",
    " }\n",
    "\n",
    "min_k = 10\n",
    "max_k = 20\n",
    "\n",
    " # A list holds the SSE values for each k\n",
    "sse = []\n",
    "silhouette_coefficients = []\n",
    "ch_scores = []\n",
    "models = []\n",
    "for k in range(min_k, max_k):\n",
    "    kmeans = KMeans(n_clusters=k, **kmeans_kwargs)\n",
    "    kmeans.fit(list(bq_data[query]['EMBEDED_COMMENTS']))\n",
    "    sse.append(kmeans.inertia_)\n",
    "    score = metrics.silhouette_score(list(bq_data[query]['EMBEDED_COMMENTS']), kmeans.labels_)\n",
    "    silhouette_coefficients.append(score)\n",
    "    ch_score = metrics.calinski_harabaz_score(list(bq_data[query]['EMBEDED_COMMENTS']), kmeans.labels_)\n",
    "    ch_scores.append(ch_score)\n",
    "    models.append(kmeans)"
   ]
  },
  {
   "cell_type": "code",
   "execution_count": 17,
   "metadata": {},
   "outputs": [
    {
     "data": {
      "image/png": "[encoded data removed]",
      "text/plain": [
       "<Figure size 432x288 with 1 Axes>"
      ]
     },
     "metadata": {},
     "output_type": "display_data"
    }
   ],
   "source": [
    "plt.style.use(\"fivethirtyeight\")\n",
    "plt.plot(range(min_k, max_k), sse)\n",
    "plt.xticks(range(min_k, max_k))\n",
    "plt.xlabel(\"Number of Clusters\")\n",
    "plt.ylabel(\"SSE\")\n",
    "plt.show()"
   ]
  },
  {
   "cell_type": "code",
   "execution_count": 18,
   "metadata": {},
   "outputs": [
    {
     "data": {
      "text/plain": [
       "8"
      ]
     },
     "execution_count": 18,
     "metadata": {},
     "output_type": "execute_result"
    }
   ],
   "source": [
    "kl = KneeLocator(\n",
    "        range(min_k, max_k), sse, curve=\"convex\", direction=\"decreasing\"\n",
    ")\n",
    "kl.elbow"
   ]
  },
  {
   "cell_type": "code",
   "execution_count": 19,
   "metadata": {},
   "outputs": [
    {
     "data": {
      "image/png": "[encoded data removed]",
      "text/plain": [
       "<Figure size 432x288 with 1 Axes>"
      ]
     },
     "metadata": {},
     "output_type": "display_data"
    }
   ],
   "source": [
    "plt.style.use(\"fivethirtyeight\")\n",
    "plt.plot(range(min_k, max_k), ch_scores)\n",
    "plt.xticks(range(min_k, max_k))\n",
    "plt.xlabel(\"Number of Clusters\")\n",
    "plt.ylabel(\"Silhouette Coefficient\")\n",
    "plt.show()"
   ]
  },
  {
   "cell_type": "code",
   "execution_count": 20,
   "metadata": {},
   "outputs": [
    {
     "data": {
      "text/plain": [
       "7"
      ]
     },
     "execution_count": 20,
     "metadata": {},
     "output_type": "execute_result"
    }
   ],
   "source": [
    "kls = KneeLocator(\n",
    "        range(min_k, max_k), ch_scores, curve=\"convex\", direction=\"decreasing\"\n",
    ")\n",
    "kls.elbow"
   ]
  },
  {
   "cell_type": "code",
   "execution_count": 21,
   "metadata": {},
   "outputs": [
    {
     "data": {
      "image/png": "[encoded data removed]",
      "text/plain": [
       "<Figure size 432x288 with 1 Axes>"
      ]
     },
     "metadata": {},
     "output_type": "display_data"
    }
   ],
   "source": [
    "plt.style.use(\"fivethirtyeight\")\n",
    "plt.plot(range(min_k, max_k), silhouette_coefficients)\n",
    "plt.xticks(range(min_k, max_k))\n",
    "plt.xlabel(\"Number of Clusters\")\n",
    "plt.ylabel(\"Calinski Harabasz Score\")\n",
    "plt.show()"
   ]
  },
  {
   "cell_type": "code",
   "execution_count": 39,
   "metadata": {},
   "outputs": [
    {
     "data": {
      "text/plain": [
       "KMeans(algorithm='auto', copy_x=True, init='random', max_iter=300,\n",
       "    n_clusters=15, n_init=10, n_jobs=None, precompute_distances='auto',\n",
       "    random_state=42, tol=0.0001, verbose=0)"
      ]
     },
     "execution_count": 39,
     "metadata": {},
     "output_type": "execute_result"
    }
   ],
   "source": [
    "kmeans_final = models[12]\n",
    "kmeans_final"
   ]
  },
  {
   "cell_type": "code",
   "execution_count": 40,
   "metadata": {},
   "outputs": [],
   "source": [
    "X = list(bq_data[query]['EMBEDED_COMMENTS'])\n",
    "min_dist = np.min(cdist(X, kmeans_final.cluster_centers_, 'euclidean'), axis=1)"
   ]
  },
  {
   "cell_type": "code",
   "execution_count": 41,
   "metadata": {},
   "outputs": [],
   "source": [
    "Y = pd.DataFrame(min_dist, columns=['Center_euclidean_dist'])\n",
    "Z = pd.DataFrame(kmeans_final.labels_.tolist(), columns=['cluster_ID'])\n",
    "PAP = pd.concat([Y,Z], axis=1)\n",
    "grouped = PAP.groupby(['cluster_ID'])"
   ]
  },
  {
   "cell_type": "code",
   "execution_count": 42,
   "metadata": {},
   "outputs": [
    {
     "data": {
      "text/html": [
       "<div>\n",
       "<style scoped>\n",
       "    .dataframe tbody tr th:only-of-type {\n",
       "        vertical-align: middle;\n",
       "    }\n",
       "\n",
       "    .dataframe tbody tr th {\n",
       "        vertical-align: top;\n",
       "    }\n",
       "\n",
       "    .dataframe thead th {\n",
       "        text-align: right;\n",
       "    }\n",
       "</style>\n",
       "<table border=\"1\" class=\"dataframe\">\n",
       "  <thead>\n",
       "    <tr style=\"text-align: right;\">\n",
       "      <th></th>\n",
       "      <th>Center_euclidean_dist</th>\n",
       "    </tr>\n",
       "    <tr>\n",
       "      <th>cluster_ID</th>\n",
       "      <th></th>\n",
       "    </tr>\n",
       "  </thead>\n",
       "  <tbody>\n",
       "    <tr>\n",
       "      <th>0</th>\n",
       "      <td>16338</td>\n",
       "    </tr>\n",
       "    <tr>\n",
       "      <th>1</th>\n",
       "      <td>34963</td>\n",
       "    </tr>\n",
       "    <tr>\n",
       "      <th>2</th>\n",
       "      <td>28737</td>\n",
       "    </tr>\n",
       "    <tr>\n",
       "      <th>3</th>\n",
       "      <td>3524</td>\n",
       "    </tr>\n",
       "    <tr>\n",
       "      <th>4</th>\n",
       "      <td>8119</td>\n",
       "    </tr>\n",
       "    <tr>\n",
       "      <th>5</th>\n",
       "      <td>11110</td>\n",
       "    </tr>\n",
       "    <tr>\n",
       "      <th>6</th>\n",
       "      <td>8225</td>\n",
       "    </tr>\n",
       "    <tr>\n",
       "      <th>7</th>\n",
       "      <td>9180</td>\n",
       "    </tr>\n",
       "    <tr>\n",
       "      <th>8</th>\n",
       "      <td>19447</td>\n",
       "    </tr>\n",
       "    <tr>\n",
       "      <th>9</th>\n",
       "      <td>11245</td>\n",
       "    </tr>\n",
       "    <tr>\n",
       "      <th>10</th>\n",
       "      <td>18875</td>\n",
       "    </tr>\n",
       "    <tr>\n",
       "      <th>11</th>\n",
       "      <td>23820</td>\n",
       "    </tr>\n",
       "    <tr>\n",
       "      <th>12</th>\n",
       "      <td>5936</td>\n",
       "    </tr>\n",
       "    <tr>\n",
       "      <th>13</th>\n",
       "      <td>13998</td>\n",
       "    </tr>\n",
       "    <tr>\n",
       "      <th>14</th>\n",
       "      <td>2995</td>\n",
       "    </tr>\n",
       "  </tbody>\n",
       "</table>\n",
       "</div>"
      ],
      "text/plain": [
       "            Center_euclidean_dist\n",
       "cluster_ID                       \n",
       "0                           16338\n",
       "1                           34963\n",
       "2                           28737\n",
       "3                            3524\n",
       "4                            8119\n",
       "5                           11110\n",
       "6                            8225\n",
       "7                            9180\n",
       "8                           19447\n",
       "9                           11245\n",
       "10                          18875\n",
       "11                          23820\n",
       "12                           5936\n",
       "13                          13998\n",
       "14                           2995"
      ]
     },
     "execution_count": 42,
     "metadata": {},
     "output_type": "execute_result"
    }
   ],
   "source": [
    "grouped.count()"
   ]
  },
  {
   "cell_type": "code",
   "execution_count": 46,
   "metadata": {},
   "outputs": [],
   "source": [
    "PAP2 = PAP\n",
    "com_ct = 10\n",
    "com_idxs = {}\n",
    "for i in range(len(grouped)):\n",
    "    com_idxs[i] = []\n",
    "    for j in range(com_ct):\n",
    "        idx = PAP2.groupby(['cluster_ID']).idxmin().iloc[i,0]\n",
    "        com_idxs[i].append(idx)\n",
    "        PAP2.at[idx,'Center_euclidean_dist'] = 100"
   ]
  },
  {
   "cell_type": "code",
   "execution_count": 47,
   "metadata": {},
   "outputs": [
    {
     "data": {
      "text/plain": [
       "{0: [8287, 216279, 100954, 100955, 51548, 51549, 91045, 91046, 104337, 104338],\n",
       " 1: [128, 129, 143, 156, 157, 167, 176, 295, 296, 300],\n",
       " 2: [47275, 99307, 16197, 15655, 6141, 16375, 46387, 25521, 78641, 118329],\n",
       " 3: [63755,\n",
       "  63756,\n",
       "  152646,\n",
       "  168173,\n",
       "  150235,\n",
       "  174709,\n",
       "  129629,\n",
       "  129630,\n",
       "  205706,\n",
       "  155472],\n",
       " 4: [125, 147, 161, 173, 177, 288, 318, 330, 517, 534],\n",
       " 5: [20175, 51228, 123455, 123456, 74801, 74802, 16455, 172574, 65314, 65315],\n",
       " 6: [18099, 116104, 83408, 86074, 203556, 184573, 53537, 45315, 73155, 79393],\n",
       " 7: [866, 867, 979, 1261, 1510, 1511, 1520, 1594, 1598, 1669],\n",
       " 8: [213335,\n",
       "  56779,\n",
       "  47655,\n",
       "  211373,\n",
       "  211374,\n",
       "  188420,\n",
       "  56780,\n",
       "  214734,\n",
       "  37562,\n",
       "  87502],\n",
       " 9: [88, 98, 100, 112, 122, 139, 141, 145, 184, 200],\n",
       " 10: [161410, 186655, 9249, 161409, 18193, 5049, 32656, 175399, 174843, 60892],\n",
       " 11: [3420, 167583, 99937, 46127, 69852, 6950, 67320, 151573, 47487, 147778],\n",
       " 12: [94950,\n",
       "  194363,\n",
       "  129350,\n",
       "  167188,\n",
       "  204916,\n",
       "  164612,\n",
       "  210113,\n",
       "  210114,\n",
       "  210115,\n",
       "  210116],\n",
       " 13: [209202,\n",
       "  180899,\n",
       "  129410,\n",
       "  76143,\n",
       "  58247,\n",
       "  57583,\n",
       "  186375,\n",
       "  52834,\n",
       "  2678,\n",
       "  153598],\n",
       " 14: [618, 645, 655, 818, 1021, 1022, 1134, 1262, 1303, 1304]}"
      ]
     },
     "execution_count": 47,
     "metadata": {},
     "output_type": "execute_result"
    }
   ],
   "source": [
    "com_idxs"
   ]
  },
  {
   "cell_type": "code",
   "execution_count": 48,
   "metadata": {
    "scrolled": false
   },
   "outputs": [
    {
     "name": "stdout",
     "output_type": "stream",
     "text": [
      "Cluster 0 ( 16338 records) :\n",
      "|||Customer Called To Reschedule For Tues 8/20 Arriving 8a-10a.\n",
      "\n",
      "|LVM To Reschedule With Crew 68|Customer Called To Reschedule Install. Message ISC Via Teams||Spoke With Mr. To Reschedule With Correct SP For 7/10 8-10 Arrival|\n",
      "\n",
      "|Spoke To Ms Day  Confirm Reschedule For 7/30 Arrival 8-10am||||\n",
      "\n",
      "|Spoke To Ms Day  Confirm Reschedule For 7/30 Arrival 8-10am||||\n",
      "\n",
      "|||Cust Called Back To RESCHEDULE Install Date|***JOB Is Set For: \t     3/3/2020     8-10  AM--------spoke To Mrs--------ATLAS EXTERIORS***  [[Mrs Called To RE-SCHEDULE]]\n",
      "\n",
      "|||Cust Called Back To RESCHEDULE Install Date|***JOB Is Set For: \t     3/3/2020     8-10  AM--------spoke To Mrs--------ATLAS EXTERIORS***  [[Mrs Called To RE-SCHEDULE]]\n",
      "\n",
      "|||LVM FOR BD TO RESCHEDULE RI|****RI RESCHEDULED FOR 06/30 AT 1PM***\n",
      "\n",
      "|||LVM FOR BD TO RESCHEDULE RI|****RI RESCHEDULED FOR 06/30 AT 1PM***\n",
      "\n",
      "||||Called Csm To Reschedule Due To Weather Tomorrow. Scheduled For 8/19 12-1pm Arrival.|\n",
      "\n",
      "||||Called Csm To Reschedule Due To Weather Tomorrow. Scheduled For 8/19 12-1pm Arrival.|\n",
      "\n",
      "------------------------\n",
      "Cluster 1 ( 34963 records) :\n",
      "||\n",
      "\n",
      "||\n",
      "\n",
      "||\n",
      "\n",
      "||\n",
      "\n",
      "||\n",
      "\n",
      "||\n",
      "\n",
      "||\n",
      "\n",
      "||\n",
      "\n",
      "||\n",
      "\n",
      "||\n",
      "\n",
      "------------------------\n",
      "Cluster 2 ( 28737 records) :\n",
      "Store Called In Behalf Of Cust Requesting ETA For Install- Contacted Installer And Installer Informed Me The Job Isn T On Their Schedule And Will Need To Be Rescheduled - Emailed ISC And ISM To Follow Up With Custmer|Store Called To Get The Customer Installation Rescheduled. Sent ISC Email : Good Afternoon   Kristal Graham Is Calling To Get Her Installation Rescheduled As To No One Ever Showing Up For Her Appointment Today. Can You Please Reach Back Customer At 850-438-6415?    Thanks||||Spoke with customer to reschedule. Customer demanded installers come out today or tomorrow. Customer was rescheduled with Global for tomorrow. Customer requested a follow up call from the ISM as well as for compensation.|Email Status:  Success\n",
      "\n",
      "per sp and customer job rained out , Chuck do you have a date per our conversation this am yet to keep the install this week?>|Email Status:  Success|Spoke To The Isntaller And He Is Going To Call Me Back To Let Me Know When He Will Be Able To Squeeze This Job Back Onto The Schedule.|Called The Customer. Have A Date For The Install. Tried To Leave A Voice Mail But Couldn’t. Call Keeps Disconnecting. Will Continue Trying.|Mr. Schaf Is Calling In For Re-schedule Of Install.  Advised Customer Of The Comments In LMS.  He Is Requesting A Call As Soon As Possible To Schedule. Emailed ISM|CALLED AND SPOKE TO MR. Schaf And Rescheduled The Install For 7/28 At Noon Time Arrival. Customer Confirmed. The Isntaller Will Be 15 Min Away Finishing Up The First Job.|||\n",
      "\n",
      "Customer Called In To Reschedule His Installation  Wanting To Know If He Can Do His Installation A Little Sooner Than Next Wedensday. Reached Out To The ISC And Advised The Customer That She Will Follow Up.|Called To Reschedule. No Answer. LVM. Schedule With Bright Side|Comments from HDEWorkflow : Spoke to customer and ISC advised to reach out to customer to set reschedule.|||Called And Spoke With Mr. Vadasy. Scheduled With Bright Side For Tues 9/24 Arriving 10a-12p. Sent IP To Installer.\n",
      "\n",
      "Called Customer . LVM Advised Install Is Set For 9/16/19|Mrs. Martinez Called In Today In Regards To Rescheduling The Installation. PINGED ISC To Resched.|Ms. Called In To Speak Woth Gary  Customer Has Disconnected||||Recd Call From Customer. She Advised That She Needs To Reschedule Install As She Can Not Be There On Monday. Job Rescheduled For 9/30/19 With Arrivl Time Between 11 And 1 Pm.\n",
      "\n",
      "Talked To The Customer Because We Had To Reschedule. The Door Was On Backorder And Will Not Be There Until After The Install Date. She Understood. EM ISC To Schedule For 9/19 Confirmed With SP.||||Per ISM Hill Ok To Double Book With Abstract. ISM Spoke To SP And Customer To Schedule This Date Due To Delay With Material|Called Cust To Advise Of New Date For Install  No Answer  LVM And Sending EML Confirmation||\n",
      "\n",
      "|Comments from HDEWorkflow : FSL shows the installer requested a re-schedule due to personal issues. Called the customer twice to re-schedule. No answer. Mailbox full. Emailed the customer|' Job in Progress Call' task completed|Cci To See If Installer Was Still Coming Today  Installer Cancelled Due To Personal Issues Told Customer SC Will Call Her Back To Reschedule|||Comments from HDEWorkflow : Called the customer and re-scheduled the install for 10/02/19 w/ Paul. Arrival time 2:30pm -3:30pm.. Pinged/emailed the ism to give the customer a call upon completion for compensation.\n",
      "\n",
      "Jamel: This job will not go today.  The Milgard windows that had ETA of 12/13 have not been received as of yet.  I called customer this morning to let him know, we will need to reschedule. Ordering: Please provide updated ETA so that we can call customer and reschedule.  Thanks!|Email Status:  Success|Awaiitng Proof Of Delivery Before Scheduling.|\n",
      "\n",
      "' Job in Progress Call' task completed|Mercedes Yulen Wanted To Know Where Installers Were Contacted Installers They Said That They Spoke With ISM And Told Him They Were Unable To Make The Job Because They Are Over 100miles Away. Tried To Contact ISC To Have Her Speak With The Customer  Left Message To Have ISC Contact The Customer With Detailed Information||Please call the customer refuses to reschedule due to the second time this has happen. She is losing money and request a call back Greg Thank You|Email Status:  Success|Comments from HDEWorkflow : Attempted to reschedule Mercedes would like to speak with the ISM before doing so|Spoke with customer and installer. Rescheduled for November 7. Arrival time is 8-8:30\n",
      "\n",
      "Ms. Cowan Called In To Reschedule Install Reached Out To ISC No Response Sending Email To ISC And ISM|Email To ISM And ISC Customer   Ms. Donovan On Job #10962458 Called In Reference To Rescheduling The Install Date For Project Listed. Customer Stated That She Will Feel Save Rescheduling For A Later Date Once COVID-19 Is Over. Pelase Contact Customer And Rescehdule.  Ms. Donovan Is Asking To Be Contacted In Reference To This Concern And Can Be Contacted At 978-273-9630.   Please Let Me Know If There Are Any Additional Questions Or Concerns. Thank You.|LVM For Customer Regarding Re Schedule Of Install|Comments from HDEWorkflow : spoke to customer and she would like a Friday or Saturday install. This postponement is due to her child staring online classes and therefore we cannot install on 4/14.||Reached Out To SP To See If She Can Accommodate A Fri Or Sat Install In This Month/ Will Reach Out To The Csr To Reschedule Once Confirmed.|||Called/ Spk W Ms To Reschedule Install/ Advised Of Voc/ Final Payment. Arrival Time 8-10am\n",
      "\n",
      "Installer Appointment Scheduled By FSL For 09-02-2020 08:00 - 10:30  With  LISOWITCH HOME SOLUTIONS LLC. Cust Advised|Solntzeff Is Calling In Regarding The Install Today Since The Installer Did Not Show. The Installer Advised They Will No Longer Be Working With Us And Canceled The Job 3 Days Ago  Emailed Isc/ism And Lmom For Ism|||Spoke With Mr. Solntzeff For Rescheduling And Customer Advised That He Had Taken The Day Off Of Workand Wanted To Know What We Can Do Regarding The Delay. I Advised That The ISM Will Decide And We Ll Follow Back Up With Him.  Emailed ISM.|\n",
      "\n",
      "------------------------\n",
      "Cluster 3 ( 3524 records) :\n",
      "Appointment for WO 00153690 has been marked - Cannot Complete.||\n",
      "\n",
      "Appointment for WO 00153690 has been marked - Cannot Complete.||\n",
      "\n",
      "Appointment for WO 01180939 has been marked -Cannot Complete.||\n",
      "\n",
      "Appointment for WO 00969939 has been marked -Cannot Complete.||\n",
      "\n",
      "Appointment for WO 00754235 has been marked -Cannot Complete.||\n",
      "\n",
      "Appointment for WO 01182994 has been marked -Cannot Complete.||\n",
      "\n",
      "Appointment for WO 00517735 has been marked -Cannot Complete.||\n",
      "\n",
      "Appointment for WO 00517735 has been marked -Cannot Complete.||\n",
      "\n",
      "Appointment for WO 02545074 has been marked -Cannot Complete.\n",
      "\n",
      "Appointment for WO 00718579 has been marked -Cannot Complete.||\n",
      "\n",
      "------------------------\n",
      "Cluster 4 ( 8119 records) :\n",
      "\n",
      "\n",
      "\n",
      "\n",
      "\n",
      "\n",
      "\n",
      "\n",
      "\n",
      "\n",
      "\n",
      "\n",
      "\n",
      "\n",
      "\n",
      "\n",
      "\n",
      "\n",
      "\n",
      "\n",
      "------------------------\n",
      "Cluster 5 ( 11110 records) :\n",
      "Called Customer To Reschedule. LVM|||Called Customer. Rescheduled Install For 10/9/19 With Arrival Time 12-2 Pm\n",
      "\n",
      "|||Comments from HDEWorkflow : Spoke to customer to reschedule\n",
      "\n",
      "|||Comments from HDEWorkflow : Spoke to customer to reschedule\n",
      "\n",
      "|||Comments from HDEWorkflow : Spoke to customer to reschedule\n",
      "\n",
      "|||Spoke With Customer And Customer Requested Reschedule Due To Covid19\n",
      "\n",
      "|||Spoke With Customer And Customer Requested Reschedule Due To Covid19\n",
      "\n",
      "Customer Returned Call To Schedule Install.  Emailed ISC.||Scheduled With Customer For First Available.|\n",
      "\n",
      "||Comments from HDEWorkflow : spoke to customer and set the install for 1/25.||Comments from HDEWorkflow : customer wanted to reschedule for 2/27||\n",
      "\n",
      "|||Spoke To ISM Advised Spoke With Customer And Reschedule Install Per Customer 3/19-20\n",
      "\n",
      "|||Spoke To ISM Advised Spoke With Customer And Reschedule Install Per Customer 3/19-20\n",
      "\n",
      "------------------------\n",
      "Cluster 6 ( 8225 records) :\n",
      "REORDER PLACED|SO # 1553176 / ETA 1/13/|Lead has ReOrder ETA added and is pushed to FSL|Reorder Date: 01/13/2020|\n",
      "\n",
      "Reorder Date: 10/15/2020|Lead has ReOrder ETA added and is pushed to FSL||Emailed RO ETA To SP To Reschedule With Cust.\n",
      "\n",
      "Reorder Date: 08/12/2020|Lead has ReOrder ETA added and is pushed to FSL|SO# 1672649||CALLED CST TO RESCH\n",
      "\n",
      "REORDER A - EST ETA 6/24/2020 TO LONDONDERRY - (SCREEN)|Email Status:  Success|Reorder Date: 06/24/2020|Lead has ReOrder ETA added and is pushed to FSL|\n",
      "\n",
      "Reorder Date: 05/06/2021|Lead has ReOrder ETA added and is pushed to FSL|\n",
      "\n",
      "Reorder Date: 06/24/2021|Lead has ReOrder ETA added and is pushed to FSL|Sash ETA 5/20/21|\n",
      "\n",
      "Reorder Date: 01/09/2020|Lead has ReOrder ETA added and is pushed to FSL|Reorder Date: 01/09/2020|\n",
      "\n",
      "Reorder Date: 05/07/2020|Lead has ReOrder ETA added and is pushed to FSL|\n",
      "\n",
      "Reorder Date: 05/07/2020|Lead has ReOrder ETA added and is pushed to FSL|\n",
      "\n",
      "WAITING ON REORDER ETA|Reorder Date: 07/29/2020|Lead has ReOrder ETA added and is pushed to FSL|RTS|\n",
      "\n",
      "------------------------\n",
      "Cluster 7 ( 9180 records) :\n",
      "||||\n",
      "\n",
      "||||\n",
      "\n",
      "||||\n",
      "\n",
      "||||\n",
      "\n",
      "||||\n",
      "\n",
      "||||\n",
      "\n",
      "||||\n",
      "\n",
      "||||\n",
      "\n",
      "||||\n",
      "\n",
      "..||||\n",
      "\n",
      "------------------------\n",
      "Cluster 8 ( 19447 records) :\n",
      "||Comments from HDEWorkflow : Scheduled w/Ronnie1 for 6/15@8:00am\n",
      "\n",
      "Re-scheduled Job With JRC3 Per ISM Request.||\n",
      "\n",
      "Job Re-scheduled With JRC3 Per ISM Request.|||\n",
      "\n",
      "|||||Comments from HDEWorkflow : Scheduled w/NWadvanced for 5/11@2:00pm|||\n",
      "\n",
      "|||||Comments from HDEWorkflow : Scheduled w/NWadvanced for 5/11@2:00pm|||\n",
      "\n",
      "Reassigned Install For 4/12-4/13 With Zurab|\n",
      "\n",
      "Re-scheduled Job With JRC3 Per ISM Request.|||\n",
      "\n",
      "ISM Will Schedule Install With Customer||\n",
      "\n",
      "|Per ISM Comment Scheduled Fror 12/30 In FSL|\n",
      "\n",
      "||Comments from HDEWorkflow : Re-assigned install to sp WindowWall.|\n",
      "\n",
      "------------------------\n",
      "Cluster 9 ( 11245 records) :\n",
      "|.\n",
      "\n",
      "|\n",
      "\n",
      "|\n",
      "\n",
      "|\n",
      "\n",
      "|\n",
      "\n",
      "|\n",
      "\n",
      "|\n",
      "\n",
      "|\n",
      "\n",
      "|\n",
      "\n",
      "|\n",
      "\n",
      "------------------------\n",
      "Cluster 10 ( 18875 records) :\n",
      "|||||Cust Agreed To Have Install Done On Tomorrow  I Reassigned Install To Diff Installer For Thjs Date & Time Per Ism E-mailed Request Hour Of Arrival For The Installer 9-11am\n",
      "\n",
      "Emailed Ordering For ETA|Reorder Date: 03/24/2021|RTS|LVm To Call Back To Schd With Installer  Tanvey||Schd Install With  Mrs Francisco Hour Of Arrival For Theinstaller 9-11am||||||||Reschd Install Per Installer E-mailed Insistance On This Date  And Time Frame To Complete Install\n",
      "\n",
      "Scheduling.|||||Spk To Ms To Reset Install Due To Previously Assigned Installer Being Unable To Do Install. Spk To Scott Marcille And He Advised Of His First Available Date For Install. Installer Appointment Scheduled By TOA For 09-19-2019 08:00 AM - 10:00 AM  With  MARCILLE BUILDERS (1570918) Installer/ 33_MARCILLE BUILDERS_Crew 1_Siding (67125) Crew.  Scheduling. Emailed Ip And WO To Installer And CC ISM.\n",
      "\n",
      "LVM & Sent E-mail To Cust To Notify Him That The Install Will Have To Be Reschd Installers Can NOT Meet The Commitment Time Of Next Week But Would Like To Schd For TOMORROW 12/11/20 With Installer Arrival Of 9-11am.. Awaitng Cust To Respond||||||Cust Agreed To Have Install Done On Tomorrow  I Reassigned Install To Diff Installer For Thjs Date & Time Per Ism E-mailed Request Hour Of Arrival For The Installer 9-11am\n",
      "\n",
      "|3rd Request For Resolution From ISM To Assign Installer .|||OB Call Made  Spoke With Mrs. Betcher  Install Date 2/5  Installers Arriving B/w 8-10 A.m. Will Follow Up With Installer Next To Work In Appointment Sooner\n",
      "\n",
      "spoke with Mr. Renville, scheduled install for 8/28 with an arrival time of 12-2pm.|||Comments from HDEWorkflow : rescheduled install\n",
      "\n",
      "LVM To Call Back To Schd With Installer Agk # 2||Schd Install Via E-mail Hour Of Arrival For The Installer 2-3pm||Bruce Called In To Reschedule  Emailed Isc|Confired Install Date / Time With Mr Bruce @ 408-369-9600 Ext 207 Hor Of Arrival For The Isntaller 2-3pm|Cci To Confirm Install\n",
      "\n",
      "Customer Would Like To Reschedule Her Installation Date Em Isc|Customer Needs A Call Back To Reschedule Her Install. I Sent Emails To ISM  PC & SM For Assistance.||LVM To Reschedule|Customer Called To Schedule Her Installation Date Em Isc||Spoke To Ms. Loughnane  Confirm Install For 4/1-2 Arrival 8-10am|\n",
      "\n",
      "|||Comments from HDEWorkflow : called Ms to schedule installation. Sent IP and Right Fax to the installer thru FSL. Job starts between 10am-11am. Installer agreed to install Monday and Tuesday of next week\n",
      "\n",
      "|||||Spk To Mr Concerning Rescheduling Install. Csr Stated He Needed The Install To Occur A Few Days Later Than The Original Date. Installer Appointment Scheduled By FSL For 03-26-2020 08:00 - 10:00  With  ROBICCO INC (ROBI102) Installer/ 31_Robicco Inc_Crew 1_Windows (58300) Crew.  Appointment For WO 00139479. Emailed IP And Wo To Installer And CC ISM.\n",
      "\n",
      "------------------------\n",
      "Cluster 11 ( 23820 records) :\n",
      "Comments from HDEWorkflow : SP is having issues w checking in on his app. ISM is assisting|' Job in Progress Call' task completed|||Comments from HDEWorkflow : Per system erroe the IPWO was never sent to original SP so the job did not go today. per ISM the job has been reset for 7/26 from 3-5 pm w South Sound|Comments from HDEWorkflow : Spoke w/SP RE: job - technical glitch occurred and SP never recd install notice. Called ISC Hooks. Rescheduling for tomorrow. Called and spoke w/cst - cst advised that so long as the job finishes by 6/7pm - should be good - otherwise needs to be rescheduled 3 weeks later. LVM w/South Sound RE: job tomorrow. Advised cst that I would call him back.\n",
      "\n",
      "Comments from HDEWorkflow : Uploaded ESS and COC to Ygrene|Please schedule final need to close ASAP|Email Status:  Success|Comments from HDEWorkflow : Job completed awaiting Final to FFUP|Reached Out To HSG About Scheduling Fnal This Week|Funding Set For 5/12|Inspection Set For Monday|Additional Labor: Trip charge to install 1 window that came mis-measured|Ygrene Inspection Set For Monday Will FFUP Then|$75 Add Labor approved for crew RAFAEL DEL VAL. Approved for trip to install window|Drew, did the Ygrene inspection pass so we can FFUP this job? please advise|Email Status:  Success|Final Customer Was Not Availble Being Reschedule|Hello Gabby need Schedule to close out Please need done this week|Email Status:  Success|Inspection Set For Tuesday Wll FFUP Same Day|Inspection Tomorrow|Final Passed Sending In For FFUP And GC As Well|Comments from HDEWorkflow : Email sent to OM 5/25 resending to close\n",
      "\n",
      "Per SP - SP's truck broke down and will be unable to make it to today's jobs. Called and spoke w/Excellent Windows. Other SP is available tomorrow for install. LVM w/cst to move install to tomorrow if this works out w/cst. Notifying ISC and scheduling of circumstances.|Email Status:  Success|Spoke w/cst - confirmed for tomorrow at noon. Notified SP.|Email Status:  Success||||Comments from HDEWorkflow : Per ISM this job will be completed w EW on 7/17 from 12-1PM\n",
      "\n",
      "Comments from HDEWorkflow : Per ISM eta for this job is not 4/9. He believes this part of the link lead is completed. He will confirm and follow up with me in regards to rescheduling|This job has one window remaining to be installed. ETA of lead link is 4/9.|Email Status:  Success|Comments from HDEWorkflow : Per ISM job is ready to reschedule. Called Mr to reschedule and lvm|Appointment for WO 00093024 has been marked - Cannot Complete.|||Comments from HDEWorkflow : Mr called back to reschedule window completion. Resent IP and Right Fax to the installer thru FSL. Job starts between 11am-12pm\n",
      "\n",
      "Michele, NW Advanced is still on earlier job today dealing with dry rot. I have spoken to cusotmer and installer and requesting this job be rescheduled for next Friday 3/20 with  3PM arrival time/|Email Status:  Success||||Comments from HDEWorkflow : Updated install per ISM\n",
      "\n",
      "Comments from HDEWorkflow : ISM confirmed that DSC is currently at the job site and job is in-progress.|' Job in Progress Call' task completed|Issue Line 2 Was Never Order It MT Error|Good Afternoon Team   please process the reorder due MT error   thank you|Email Status:  Success|SO#:1512645  Ship Date:10/24/2019|10912116 / line 2 - missed by measure tech|Reorder Date: 10/24/2019|Lead has ReOrder ETA added and is pushed to FSL||10912116 Jones: Permit 9/30 & Re-order 10/24 - (1) 1PNL/Slider|||||\n",
      "\n",
      "Attempted JCc: Spoke W/MRs She Has Not Been At The Property So She Was Unaware If It Had Been Completed. She Did Not Receive A Call For Install Yesterday.  Contacting ISM To Confirm Installation Completion.|Emailed Ism For Update|Material Received FREDERICK Warehouse|Install Set For 5/21 In Afternoon  With SLD Crew 2|Per Comment Install Set For Today  5/21 In Afternoon  With SLD Crew 2|Emailed ISM To Check On Status Of Job|Install Set For 6/4|Should Finish Up 6/6|Installer Going Back Out On 6/14 To Finish Up|RAINED Out Reset For 6/27|Job Is Done NEED JCC|NEED JCC|Lead Paint documents received set to True|Signed Lead Doc Recd; Labor Updated|Pick Up Ck On 7/ 27 For Balance Sent Copy To Pam And Mailed To Office Same Day To Be Sent Up For Processing|Overnighting Check #962 For $1593.00 To A/R Via UPS Tracking #1Z0205FX0192018684.|PR CK # - 10962 CK - $1593|Sent Message To ISM   Job Can Be Moved To FUP\n",
      "\n",
      "|Is this being installed today besides line 5?|Email Status:  Success|Please provide and update on the status of install. See notes from ISC on 12/10|Email Status:  Success||Customer Checking On Eta Of Final Window. Please Contact This Customer With Updated Install Schedule.|The Window Arrived Ayt Warehouse And Ism Is Trying To Get FGA To Install This This Week To Possibly Get It For This Month.|Customer Called For An Update On When He Will Get Rescheduled EM ISC And ISM|Additional Labor: 1 patio door not on work order|$395 Add Labor approved for crew FERNANDO GOMEZ. approved|$395 Add Labor approved for crew FERNANDO GOMEZ. This is approved.|This job is complete and ism ordered final inspection.|K5 - Advised this job is Ready For Final. Assigned to Tina to call CSM to set needed inspection.|K5T - Final set for 1/4\n",
      "\n",
      "Hello;  Please confirm the 12-2pm start time for this job today.  Thanks  Shana|Email Status:  Success|Spoke w/SP and spoke w/cst - job needs to be rescheduled as previous job is taking longer than expected.|Email Status:  Success||Comments from HDEWorkflow : LVM/ Em to notify custr of reset to 12/26 from 8-10am. gave 877 & EXT to call in if date does not work.\n",
      "\n",
      "Team, I am not sure why this order hasn't been place, but we need a entire unit. This unit came in damage. See photo. Thanks,|Email Status:  Success|Material Received In The Lorton Warehouse|Confirmed With ISM PW Is In Warehouse.|Hi Nikky, Material in. Do you have a scheduling date when we can install this 1 window. Need to close out this job before month end. Thank You.|Email Status:  Success||||||Customer Has Agreed To Date Proposed By SP;  Had To Change The Duration (which Is Not Correct) To Ensure The Job Was Set Up In FSL.  Mr Wants To Confirm That The Side Windows Will Also Be Installed As He Claims The # Of Sashes Were Incorrect During The Initial Install.  Email Sent To SP/ ISM For Follow Up.\n",
      "\n",
      "------------------------\n",
      "Cluster 12 ( 5936 records) :\n",
      "|'At least one item does not have a Labor Rate assigned.  The Labor Scale assigned to the Installer is Master for Lead# 10979682, Installer Name- BSP CONSTRUCTION INC, Crew Name- Pavol Bebej   *CREW 1*'||'At least one item does not have a Labor Rate assigned.  The Labor Scale assigned to the Installer is Master for Lead# 10979682, Installer Name- REVOLUTION HOME INC, Crew Name- Barbara Pruszkowski'|\n",
      "\n",
      "|'At least one item does not have a Labor Rate assigned.  The Labor Scale assigned to the Installer is Master for Lead# 11039088, Installer Name- BG WINDOWS INC, Crew Name- Ivan Ivanov'||||'At least one item does not have a Labor Rate assigned.  The Labor Scale assigned to the Installer is Master for Lead# 11039088, Installer Name- JJ68 CONSTRUCTION INC, Crew Name- Martin Kulisek'|\n",
      "\n",
      "||'At least one item does not have a Labor Rate assigned.  The Labor Scale assigned to the Installer is Master for Lead# 11000760, Installer Name- EMERALD CONSTRUCTION INC., Crew Name- Eduard Motso'||||'At least one item does not have a Labor Rate assigned.  The Labor Scale assigned to the Installer is Journeyman for Lead# 11000760, Installer Name- PAVELS CARPENTRY, Crew Name- Pavel B. Tyurin'|\n",
      "\n",
      "||'At least one item does not have a Labor Rate assigned.  The Labor Scale assigned to the Installer is Master for Lead# 11021378, Installer Name- D HANDY INC, Crew Name- DAVID FONT'|\n",
      "\n",
      "||'At least one item does not have a Labor Rate assigned.  The Labor Scale assigned to the Installer is Master for Lead# 11048124, Installer Name- KEN STEFFES INSTALLATION SERVICES L, Crew Name- KEN STEFFES'||||'At least one item does not have a Labor Rate assigned.  The Labor Scale assigned to the Installer is Master for Lead# 11048124, Installer Name- Uskoa LLC, Crew Name- Aaron Bohunko'|\n",
      "\n",
      "||'At least one item does not have a Labor Rate assigned.  The Labor Scale assigned to the Installer is Master for Lead# 11019923, Installer Name- D HANDY INC, Crew Name- DAVID FONT'|\n",
      "\n",
      "||'At least one item does not have a Labor Rate assigned.  The Labor Scale assigned to the Installer is Master for Lead# 11053954, Installer Name- D HANDY INC, Crew Name- DAVID FONT'|\n",
      "\n",
      "||'At least one item does not have a Labor Rate assigned.  The Labor Scale assigned to the Installer is Master for Lead# 11053954, Installer Name- D HANDY INC, Crew Name- DAVID FONT'|\n",
      "\n",
      "||'At least one item does not have a Labor Rate assigned.  The Labor Scale assigned to the Installer is Master for Lead# 11053954, Installer Name- D HANDY INC, Crew Name- DAVID FONT'|\n",
      "\n",
      "||'At least one item does not have a Labor Rate assigned.  The Labor Scale assigned to the Installer is Master for Lead# 11053954, Installer Name- D HANDY INC, Crew Name- DAVID FONT'|\n",
      "\n",
      "------------------------\n",
      "Cluster 13 ( 13998 records) :\n",
      "Issue:   Installer/CST Called To Close Out The Account And Was Satisfied With The Service We Provided And Explained The VOC And The COC With Installer; Cust Will Call Back To Make Payment   Action:    Next Step:|Comments from HDEWorkflow : Spoke to SP- will contact customer today to review and schedule caulking|Customer reached out to me today with more pictures of install.  He found more issues. He is very unhappy with the install  ( wraps and caulking ).|Email Status:  Success|Good morning Richard, please close this job and payout WO. I called the customer this morning to collect remaining balance. Sarah, he accepted a $300 HDGC. I will send for approval once I have written it up. Thank you,|Email Status:  Success|Lead Paint documents received set to True|CSAT CA Has Been Sent To Zendesk For Processing\n",
      "\n",
      "Comments from HDEWorkflow : Job in progress-on schedule|Installer Called To Close Out The Account  Mr Vergarra  Paid With Mastercard On File. Customer Was Satisfied With The Service We Provided  Jobsite Clean. Explained The VOC And Call Survey To MR   Reminded Installer Of COC & Lead Docs Need The Refund Per Did Nto Use The Casing For Window Emaield Ism  Sm For Deduction Requested|Team CA # 2 Dated 2/3/21 Was Requested By Install Team For Trim Work. That Work Was Not Required Per ISM And Customer Should Not Be Charged . Please Reverse And Remove CA In The Amount Of $ 420.00 From Job   Customer Will Pay Balance To Close Once Correction Is Made .  ISM Cc’d To Confirm .|Contract Amendment : Adjust to Close Extended Price: -420|Can you please do a JCC?  Job has been completed and job has been adjusted.|Email Status:  Success|Called To JCC. Customer Has To Call The HDCC Line To Get Credit Limit Extended To Make Final Payment. She Has Requested That I Call Her Back Tomorrow.|Additional Labor: MATERIALS RECEIPT|$63.12 Add Labor approved for crew FRANCISCO COLET. materials receipt|Called To JCC  LVM|Charnay,  Can you please do a JCC on this as well?  She said she was calling HD to raise her line.  If not can we see if the CST will pay with another form of payment?  Thanks again.|Email Status:  Success|Called Customer To Close She Advised She Paid The Final Balance On A Hdcc. The Installer Would Not Let Her Leave Until The Final Balance Was Paid. I Advised This Payment Has Not Been Processed And There Is No Indication There Was  Ever A Payment Made. Customer To Call Hdcc To Address.|Per call need to contact customer again to confirm payment on HDCC.|Email Status:  Success|Lvm With Customer For An Update On Final Payment.|Called Marcella|Left VM With 877# Opt 2 Then 4 To Active Warranty|If No Response By 4/23 ISC To Send NCl.|Comments from HDEWorkflow : lvm to close. will send ncl if not contact by tomorrow.|The customer called me and I helped her process paying the balance with accounts receivable|Assisted DC/Nigel And M/M Marcella Vergara With Balance On Two Cards: 11 258.30 On HDPL/MC And 266.77 On MC\n",
      "\n",
      "ISM Spoke To The Customer And Discussed Arrival Time And Questions About Moulding. ISM Will Make A Site Visit|ISM Made JSI And All Was Going Well. Project Looked Like It Would Be Running Late As All Wood Was Rotted And Needed To Be Replaced. ISM Will Follow Up On 11/18|ISM Will Follow Up Today For Update On Install|Customer Called In Trying To Pay And Card Declined|Tried To Process Payment And Card Declined Again.  Emailed Lisa Gilbert To See If There Are Issues With HD Card Going Through|Per AR  There May Be A Flag On The Customer S Card.  Asked ISC To Call Customer And Advise To Call Citi To Have Hold Lifted|Spoke With Mr. And Ms. They Said That The Job Is No Where Near Completed And That They Never Called To Make A Payment. They Re also Waiting For The New HDCC To Come In The Mail But Do Not Want To Close Until Job Is Done.|Em ISM Conrrado Please Contact Mr. Jayant. He Stated His Install Is Not Completed And There Should Be A Reorder For His Bathroom Window. He Stated The Bathroom Window Was Measured Too Small And He Would Like An Update On The Reorder. Please Contact Mr. Jayant When Available. 973) 667-8591|Received Signed Coc To A Apply Balance To HDCC Tried To Process Payment Card Declined Per Notes Below Job Is Not Completed.||Comments from HDEWorkflow : ISM spoke to customers wife on the phone with installer present. It was agrred that capping for bathroom window would be completed when reordered window arrived. Customer also stated she was comfortable closing the job and opening a service for last window to be reinstalled|JCC Spoke With Customer To Activate Warranty  Customer Is Satisfied With Install Howver She Stated There  1 Window Needs An Interior Frame And 1 Window Needs To Be Reordered. Per Customer Request Remaining Balance Placed On HDCC\n",
      "\n",
      "Installer Ci To Close Out Job.  Cst Adv Work Completed.  Cst Adv Will Pay Final Pymt Upon Completion Of Final Inspection.  Sent Em To Om And Isc|JCC To Customer Was NA.  Sent EM.|Tried To Call The Customer  Unable To LVM|Email To Expeditor - Is Albuquerque Scheduling Final Inspections Right Now?|S/W Customer For JCC  He Advised He Is Not Happy With Install And Wants An Inspection Before Making Final Decision.  EM ISM To Advise For Follow Up.|Reviewed Completed Pictures And LVM  BC Is Calling For The Final Inspection To Be Done.|Emailed BC Following Up On Final Inspection.|Per Expeditor - See Email From H/o When I Tried To Schedule.  Very Nice Just Not Ready To Schedule Before Job Is Complete.|Comments from HDEWorkflow : LVM for the customer|Comments from HDEWorkflow : Spoke to Mr, he said they're is some trim and caulking work needed to complete. LVM for the installer.|Spoke To Victor  He Ll Call The Customer And Schedule To Finish Items.|Comments from HDEWorkflow : Victor LVM for the customer and will try again today if he hasn't heard from them.|Installer Scheduled To Complete Items Needed 4/21|Called Installer And Customer For Update On Job. Was NA LVM.|Please complete JCC call coc is attached|Email Status:  Success|Customer Signed COC Subject To Review.  I Also Spoke To The Customer Whom Previously Refused To Close Job.  Per Notes Installer Was To Return Yesterday 4/21 To Address Customer Concerns With Install.  I Have LVM With Customer And Installer And Will Try Again Later Today Or Tomorrow To Try To Close Job.|2cnd Call To Customer Was VML.|Comments from HDEWorkflow : Lvm with SP and sent email for updates|Per SP EM  He Scheduled Punch List To Be Done Tomorrow 4/24.|EM M. Ottley And D. Sydenstricker SM  SC: During The FUP Call The Customer Raised Concerns Regarding His Balance And What All Is Included In His Total. Please Reach Out To Him For Clarification So That We Can Close This Job. He Can Be Reached At 505-883-0374.|Called Customer For JCC  Was NA LVM.|Mel, Please assist with balance due. Customer has question on blance. Job is completed and COC uploated ready to close out|Email Status:  Success|SM Spoke With Customer And Customer Is Mailing In A Check Does Not Want To Give Inor Over Phone|Email To RGM/BIM/DOM - Request Approval For A Force FUP.  Mel Has Spoken To Her And Will Be Mailing Check To The Office.  COC In Documents Tab. Would Love To Get Out Of Our Aged.|Check Is Being Mailed To Branch. FFUP Approved By RGM D.Shane.\n",
      "\n",
      "Comments from HDEWorkflow : FSL shows the sp completed this install on 02/22.  Called the customer on both lines for JCC. No answer lvm. Emailed the sp requesting to upload the signed coc to FSL docs.|Comments from HDEWorkflow : The customer called back and mentioned she is not pleased with the work done and is waiting a manager to give her a call. Emailed the ism to give the customer a call and provide an update when its okay to call the customer back to close.|going to visit with customer Thursday at 5.|Additional Labor: 56 lf of PVC and 3 Manufactured home surcharges|$348 Add Labor approved for crew Eduardo Marinez. approved|$348 Add Labor approved for crew Eduardo Marinez. Approved|Susan, please prepare an S&R for $500.00  this is to cover new shutters and customer not liking the way the front of the house now.|Email Status:  Success|Comments from HDEWorkflow : Per ism okay to close. Refund of $500 will be sent by GC once closed|JCC:LVM|JCC Attempted. No Answer. LMOM.|Comments from HDEWorkflow : 3/2/20 need JCC|CCI. Emailed ISM - Mrs. McKone Called In And Says Job Is Complete But Not Satisfied. She Is Suppose To Get A $500 Credited To Her Bill  Not A Gift Card – This Was Per Jay. Call Her At (352) 303-4651. She Asked That This Not Be Closed.|Comments from HDEWorkflow : Prepared CA and sent up for processing contract reduction|Comments from HDEWorkflow : Pending CA to be applied before the job can be closed.|Received Signed COC; Sending Up For Processing|Contract Price Adjustment: Customer Sat Extended Price: -500\n",
      "\n",
      "EM ISM: Hey Team   I Have Mr. Berminghan 10952083 Who Called In With The Installer To FUP The Job  But He Is Not Willing To Pay Until The Sliding Doors That Never Came Are Installed. Follow Up With The Customer At 561-703-0064|EM SP/ISM FOR AN UPDATE|PER ISM:I Spoke To The Customer At Length Yesterday. The SC Will Be Contacting The Customer To Resolve And Said Will Be Closing The Job Before End Of Week. Thanks.|EM ISM FOR AN UPDATE|Lead Paint documents received set to True|Comments from HDEWorkflow : EM SC and SM for update on collecting balance to close out job.  Job was completed 3/3 and CST still has not paid.  cc'd BIM|JCC-LVM|JCC-LVM|Called To Close Job; Joseph Advised The Sliding Door Was Never Installed And Would Like To Have This Issue Resolved  Emailed Ism|Spoke to CST who was extremely agitated. Feels he was taken advantage of. Advised if he doesn’t pay we will start the collection process.|Final Ispection Completed Permit Closed.  This Job Needs To Be Fup D And Closed Out.|Comments from HDEWorkflow : EM ISC to try and collect final balance from the CST-CST claims job is not complete according to contract-Job has passed final inspection and is 100% completed-All signed docs are in system|JCC-LVM|JCC-LVM|EM/JCC-LVM|Comments from HDEWorkflow : CST claims job is not complete according to contract-Job has passed final inspection and is 100% completed-All signed docs are in system|Comments from HDEWorkflow : CST refusing to pay-waiting to start NCL process|Comments from HDEWorkflow : Follow up after 04/30|Comments from HDEWorkflow : CST still refusing to pay-waiting to start NCL process|JCC-LVM|Comments from HDEWorkflow : Follow up 05/17 to continue NCL process|EM/JCC-LVM|JCC-LVM|Em Ism For Assistance|Comments from HDEWorkflow : CST is still refusing to pay due -need to send NCL once we're allowed to|Has an NCL letter been sent to this customer?|Email Status:  Success|Charnay please do JCC. If no response please start NCL.|Email Status:  Success|Lvm For Jcc.|FTG Agency Will Overnight Payment. Once Paid They Will Need A Contractor S Affidavit Signed/Notarized And Returned To Term The NOC.|PAYMENT   The New Home Owner Is Closing On This August 10. The Title Company Will Send A Check To Reach Us By The 13th Of August. A Partial Release Of Lien Was Done With The Amount Still Due.|Partial Release Of Lien Sent To Title Company  A New NOC Will Have To Be Signed. Filed In Box RF 069905799|Comments from HDEWorkflow : Follow up with customer 08/10 to confirm closing and check being sent|Spoke To The Customer He Said The Closing Has Been Delayed Until LSept. 10. Once The Job Is Closed The Payment Will Be Paid By Check Or Wired To The SM. Will Follow Up On 09-10.|FTG Agency Is The Title Company Who Is Closing On This Property Scheduled For 9/10. The Balance For This Job Will Be Sent To The Branch After The Closing.. The Check Will Be Overnighted.|On Credit Hold: No DL # or State supplied for check payment|This Home Was Sold And The Check # 28039 Is From The Title Company. It Has The Buyer And The Sellers Name Both On Here. I Will Send A Copy To The Zen Desk. Filed In Envelope # RF 069905799|Requester Donna L Antonelli Created Today At 10:52 Last Activity Today At 10:52 CCs   Schneider  Craig F     Id #84215 Status Open  Priority Normal  Business HDE  Sub Topic Research  Job Number 10952083  Customer Name Joseph Berminghan   Attachments   10952083 Berminghan Check 28039.pdf  200 KB Download|Added New Owner Name As Homeowner #1|Sent Check To AR; Tracking Number: 1Z9AE1500396286272  Service: UPS Ground Service Delivered By: End Of Day Tuesday  Sep 15  2020|Hello Donna,  Can you tell me if the check that was sent was for the full balance?  Just want to make sure this one closes once check is processed.  Thanks,|Email Status:  Success|Comments from HDEWorkflow : Full balance paid..Check on the way to AR...will close then.|Check Arrived On 9/15/2020 Tuesday At  12.48. Pick Up Is On Fridays With AR And Deposits.|PR CK # - 28039 CK - $4256.25\n",
      "\n",
      "James- I know Kevin is out, but can you follow up with this SP and see what time they plan on being at the customers home. The job is scheduled for today and the customer has been waiting for them to arrive. Please advise asap so we can update customer. Thanks.|Email Status:  Success|Comments from HDEWorkflow : CA uploaded removing PD from order due to delays - eml sent to ordering to apply and adjust balance due to $1374|Needs JCC|JCC Attempted. Left Voicemail. Attempted To Collect Balance Due On Home Depot Card Per COC. Card Was Declined.|Emailed PRL And Uploaded To FSL.|JCC Called Mr Bior Line Did Nto Conect Tried Twice|JC Call Completed - Customer Said Installer Left Her With A Crack In Her Backsplash - Notified ISM.|Customer Said She Cancelled Patio Door Previosuly And Only Owes For Two Windows. EM ISM|CA On File Was Never Processed - Sent CA To Ordering And Collected Balance Due Of $1374|PAID IN FULL - Awaiting CA To Process For Balance|CA Sent To Ordering To Remove Patio Door Yesterday|2nd Request Sent To Ordering|Still Waiting For Ordering To Apply CA|Lead Paint documents received set to True|EM Ordering To Apply CA To Close Out Installation|Contract Amendment : Adjust to Close Extended Price: -4052.01|As Working In Box Ca S Applied To Close Job Out Properly.\n",
      "\n",
      "Installer/CST Called To Close Out The Account And Was Satisfied With The Service We Provided; Cust Had To Leave  Called Vivian And They Advised They Will Make Final Payment In Store With A Check.|Comments from HDEWorkflow : NEED FOLLOW UP TO CONFIRM THE JOB WAS PAID INTHE STORE|Per Purge - Customer Has Not Paid Balance Due In Store - JCC NEEDED - If Payment Not Made By Friday - Please Send PRL|Need JCC|Email Status:  Success|Need JCC|Email Status:  Success|can we send out the PRL today? customer was to pay in store and this still isn't done|Email Status:  Success|Comments from HDEWorkflow : ISM LVM to assist to close out the job.|Comments from HDEWorkflow : NEED JCC|Called To Close The Job  Customer Advised To Call Back Monday|LVm For JCC|Spoke To Mrs And She Is Happy Wirth The Install Voc Done. Paid Balance With CC On File|Lead Paint documents received set to True\n",
      "\n",
      "Comments from HDEWorkflow : window delivered 12/30 spoke with cust confirmed with sp for todays date|' Job in Progress Call' task completed|Comments from HDEWorkflow : spoke with sp he was about 30 min away at 10:30 am on the way to the job|Comments from HDEWorkflow : cust will pay with check , told SP they will call it in after 3pm when they finish work , coc sighed off and sent to BIM to FUP|Can you order a screen for this , came in damaged , Thank you|Email Status:  Success|Texted and lvm for cust on payment|Email Status:  Success|Antonio do you gusy know anything about this? Customer is saying he should receive a discount for the time it took for the job and spoke with his salesman ....this started back when John had Corning|Email Status:  Success|Chris please see the attachment for your refund as agreed, please sign it and send it back to me so we can process this today for you .The screen is ordered and will be there by months end. Anderson as discussed has a 3-4 week lead time|Email Status:  Success|See attached I need the screen ONLY for this shipped to the customer or my warehouse asap ...it came in damaged for the 3rd time|Email Status:  Success|10907999D - need screen only for line 1 due to arriving ripped again. - ship to Rochester|RO PLACED|updated forms please sign and send me a pic or scan back so we can process and close your job ,|Email Status:  Success|Reorder Date: 01/29/2020|Lead has ReOrder ETA added and is pushed to FSL|RTS|LMOM Set W/ B JONES FRI 1/21|Emailed The ISC To Double Check If The Comment That Was Left In The Previous Comment Was For This Job. Waiting On A Confirmation.|LMOM Set W/ B JONES FRI 1/31|Calvin this is 1 screen we don't need to sched an installer, Ill deliver it , please assist in reaching out to cust to close job , they agreed to a discount and said they would close|Email Status:  Success|Comments from HDEWorkflow : lvm for cust to call me back to discuss closing|Credit has been applied ,$741.98 agreed upon is due , replacement screen in on order and eta is 1/29 to our Rochester warehouse ,I'll be picking it up and delivering it the same week . , please call 877 903 3768 to close out the job|Email Status:  Success|Spoke With Customer  During A JCC  He Did Advise There Should NOT Be A Remaining Balance On The Account. He Advise That It Was Taking Care Of. Isc Will Follow Up ISM/BIM To Advise.|Spoke  With Colline Herman. Confirmed CSAT Is For 371.00. Processed Check 1104/741.98 . Email Branch Address To Mail Check To. Advised Screen Eta Is For 1/29.|LVM For SC/Reeves To Follow Up On Submitting CSAT Docs For 371.00 For Processing.|Comments from HDEWorkflow : cust claims they sent check out|JCC - Spoke With Customer Sasys Made Final Payment And Check Posted 1/8/2020  There Was Supposed To Be A 25% Credit Added To The Project But Has Not Been Processed As Of Yet  Unable To Fup Job Until That 25% Credit Is Applied To The Account|Submitted The Signed S&R And CA To A/R Through Zendesk To Clear The Remaining Balance Due. Waiting On Confirmation To Then Fup The Job.|Comments from HDEWorkflow : eta 1/29|Emailed A/R Via Zendesk And Advised That The Balance Due Is To Be Cleared Out. Customer Paid The Portion Of His Balance.|Contract Price Adjustment: Customer Sat Extended Price: -371\n",
      "\n",
      "Good morning Crystal, This job has been completed, but the customer did not check the form of payment to use for the balance. Please do a JCC to close this job and pay the work order.  Thanks,|Email Status:  Success|Install complete. Need JCC|Attempted To Jcc/no Answer/ Lmovm|Signed Coc Without MOP Checked|Need JCC|Email To The Customer: Good Afternoon Mrs.  Jefferson This Is Charlene Holmes With The Home Depot.  I Am Emailing You In Regards To The Completion Of Your Window Installation.  Please Give Me A Call  In Regards To Finalizing The Balance Due & Activating Your Window Warranty.|Called Ms Jefferson At 240-605-6831 To Activate Warranty; Left Vm For Ms Jefferson To Call Home Depot|I Called The Customer This Morning No Nswer  LVM For A Call Back In Regards To The Completion Of The Window Installation.|I Emailed The ISC To Update The SP Labor For The Installation Is Complete.|Left VM With 877# For Warranty|Per ISM  Good Morning Sheree Here Is Another Job Can You Update The Installers Labor. The COC And The Lead Form Is In The Job Documents.|Lead Paint documents received set to True|Owner S Voicemail And Cannot Accept Any Messages. Owner S Phone# Is Primary|JOB Need A JCC.|I Called The Primary And Work Numbers And I Was Unable To Leave A Message. I Emailed Ms Jefferson In Reference To Starting Her Warranty With Paying Balance.|I Have Attempted To Reach The Customer By Phone  Text And Email. So Far There Has Been No Reply To Either.|Request for my PC to send out to the customer a NCL|Attempt To Close  Unable To LM  Sending CSAT Letter|Saved CSAT In DOCS|Tracking Number:1Z93208A0206228636|Send 2nd CSAT Letter 1/26 For FFUP|Called To JCC Unable To LVM|2nd Attempt To JCC  Unable To LVM|Called Customer To Attempt To Close. No Answer.Unable To Leave Message. Mailbox Full|Sending 2nd CSAT Today .|Saved 2nd CSAT Letter In DOCS|Tracking Number:1Z93208A0235468475|Job Ready For FFUP|Comments from HDEWorkflow : Per ISM will contact owner to confirm payment can be placed on card in the system|LVM For Customer On The (240)# For A Call Back In Reference To His Window Installation.|Please find the attached docs|Email Status:  Success|The SC And I Reveiwed This Job.  He SC Left A Voice Message To The Customer And He Is Waiting For A Repy But Did Say The Balance Due Is To Go On The Credit Card On File.|Comments from HDEWorkflow : Called primary number. Someone answered. I introduced myself and the call dropped. I called back and left a message in reference to final payment. Per ISM(Holmes) will submit FFUP request today|JCC Attempt. LVM|Request For FFUP|Comments from HDEWorkflow : Per ISM will confirm if FFUP has been approved. Awaiting response|Spoke With The Homeowner Mr Hawk. Mr Hawk Paid The Final Balance With The CC On File. The Ownwers Contact Number Is 410-569-0052\n",
      "\n",
      "------------------------\n",
      "Cluster 14 ( 2995 records) :\n",
      "|||\n",
      "\n",
      "|||\n",
      "\n",
      "|||\n",
      "\n",
      "|||\n",
      "\n",
      "|||\n",
      "\n",
      "|||\n",
      "\n",
      "|||\n",
      "\n",
      "|||\n",
      "\n",
      "|||\n",
      "\n",
      "|||\n",
      "\n",
      "------------------------\n"
     ]
    }
   ],
   "source": [
    "for cluster in com_idxs:\n",
    "    print('Cluster',cluster,'(',grouped.count().iloc[cluster,0], 'records) :')\n",
    "    for idx in com_idxs[cluster]:\n",
    "        print(bq_data[query].loc[idx,'COMMENTS'])\n",
    "        print('')\n",
    "    print('------------------------')"
   ]
  },
  {
   "cell_type": "code",
   "execution_count": 29,
   "metadata": {},
   "outputs": [],
   "source": [
    "# models[7]"
   ]
  },
  {
   "cell_type": "code",
   "execution_count": 30,
   "metadata": {},
   "outputs": [],
   "source": [
    "# with open('kmeans_models', 'wb') as f:\n",
    "#         pickle.dump(models, f)"
   ]
  },
  {
   "cell_type": "code",
   "execution_count": 31,
   "metadata": {},
   "outputs": [],
   "source": [
    "# bq_data[query]['LABEL'] = kmeans_final.labels_\n",
    "# bq_data[query].head()"
   ]
  },
  {
   "cell_type": "code",
   "execution_count": 32,
   "metadata": {},
   "outputs": [],
   "source": [
    "# bq_data[query].to_csv('data.csv')"
   ]
  },
  {
   "cell_type": "code",
   "execution_count": 33,
   "metadata": {},
   "outputs": [],
   "source": [
    "# docs = NLP.pipe(bq_data[query]['CLEANED_COMMENTS'], batch_size = 100)\n",
    "\n",
    "# for doc in docs[0:5]:\n",
    "#     print([ent for ent in doc.ents])"
   ]
  },
  {
   "cell_type": "code",
   "execution_count": 34,
   "metadata": {},
   "outputs": [],
   "source": [
    "if __name__ == \"__main__\":\n",
    "    run(query_name_list)"
   ]
  }
 ],
 "metadata": {
  "kernelspec": {
   "display_name": "hde_falloff_reason",
   "language": "python",
   "name": "hde_falloff_reason"
  },
  "language_info": {
   "codemirror_mode": {
    "name": "ipython",
    "version": 3
   },
   "file_extension": ".py",
   "mimetype": "text/x-python",
   "name": "python",
   "nbconvert_exporter": "python",
   "pygments_lexer": "ipython3",
   "version": "3.7.6"
  }
 },
 "nbformat": 4,
 "nbformat_minor": 2
}
